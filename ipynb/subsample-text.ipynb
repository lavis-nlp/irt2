{
 "cells": [
  {
   "cell_type": "markdown",
   "id": "37712761-8ddc-46ec-9248-11e58dec9c40",
   "metadata": {
    "collapsed": false
   },
   "source": [
    "# Text Subsampling\n",
    "\n",
    "We draw up to `n` texts for training/evaluation.\n",
    "This does not concerns blp datasets."
   ]
  },
  {
   "cell_type": "code",
   "execution_count": 23,
   "id": "944f9095-6aa5-4bde-90d7-7959ef7f9ec6",
   "metadata": {
    "collapsed": false
   },
   "outputs": [
    {
     "name": "stdout",
     "output_type": "stream",
     "text": [
      "writing /home/felix/Complex/dkg/irt2/data/irt2/irt2-cde-tiny/closed.train-contexts-31189-30.txt.gz\n"
     ]
    },
    {
     "name": "stdout",
     "output_type": "stream",
     "text": [
      "wrote 93015 contexts, writing pickled dict\n"
     ]
    },
    {
     "ename": "TypeError",
     "evalue": "file must have a 'write' attribute",
     "output_type": "error",
     "traceback": [
      "\u001b[0;31m---------------------------------------------------------------------------\u001b[0m",
      "\u001b[0;31mTypeError\u001b[0m                                 Traceback (most recent call last)",
      "Cell \u001b[0;32mIn[23], line 95\u001b[0m\n\u001b[1;32m     93\u001b[0m kwargs \u001b[38;5;241m=\u001b[39m \u001b[38;5;28mdict\u001b[39m(seed\u001b[38;5;241m=\u001b[39mconfig[\u001b[38;5;124m'\u001b[39m\u001b[38;5;124mseed\u001b[39m\u001b[38;5;124m'\u001b[39m], n\u001b[38;5;241m=\u001b[39mconfig[\u001b[38;5;124m'\u001b[39m\u001b[38;5;124mat_most\u001b[39m\u001b[38;5;124m'\u001b[39m])\n\u001b[1;32m     94\u001b[0m \u001b[38;5;28;01mfor\u001b[39;00m ds_conf \u001b[38;5;129;01min\u001b[39;00m config[\u001b[38;5;124m'\u001b[39m\u001b[38;5;124mdatasets\u001b[39m\u001b[38;5;124m'\u001b[39m]:\n\u001b[0;32m---> 95\u001b[0m     \u001b[43mdraw\u001b[49m\u001b[43m(\u001b[49m\n\u001b[1;32m     96\u001b[0m \u001b[43m        \u001b[49m\u001b[43mLOADER\u001b[49m\u001b[43m[\u001b[49m\u001b[43mds_conf\u001b[49m\u001b[43m[\u001b[49m\u001b[38;5;124;43m'\u001b[39;49m\u001b[38;5;124;43mloader\u001b[39;49m\u001b[38;5;124;43m'\u001b[39;49m\u001b[43m]\u001b[49m\u001b[43m]\u001b[49m\u001b[43m(\u001b[49m\u001b[43mds_conf\u001b[49m\u001b[43m[\u001b[49m\u001b[38;5;124;43m'\u001b[39;49m\u001b[38;5;124;43mpath\u001b[39;49m\u001b[38;5;124;43m'\u001b[39;49m\u001b[43m]\u001b[49m\u001b[43m)\u001b[49m\u001b[43m,\u001b[49m\n\u001b[1;32m     97\u001b[0m \u001b[43m        \u001b[49m\u001b[43mds_conf\u001b[49m\u001b[43m,\u001b[49m\n\u001b[1;32m     98\u001b[0m \u001b[43m        \u001b[49m\u001b[38;5;241;43m*\u001b[39;49m\u001b[38;5;241;43m*\u001b[39;49m\u001b[43mkwargs\u001b[49m\u001b[43m,\u001b[49m\n\u001b[1;32m     99\u001b[0m \u001b[43m    \u001b[49m\u001b[43m)\u001b[49m\n\u001b[1;32m    103\u001b[0m \u001b[38;5;66;03m# draw(ds=IRT2.from_dir(irt2.ENV.DIR.DATA / 'irt2' / 'irt2-cde-tiny'), **kwargs)\u001b[39;00m\n",
      "Cell \u001b[0;32mIn[23], line 90\u001b[0m, in \u001b[0;36mdraw\u001b[0;34m(ds, ds_conf, seed, n)\u001b[0m\n\u001b[1;32m     88\u001b[0m \u001b[38;5;28mprint\u001b[39m(\u001b[38;5;124mf\u001b[39m\u001b[38;5;124m'\u001b[39m\u001b[38;5;124mwrote \u001b[39m\u001b[38;5;132;01m{\u001b[39;00mtotal\u001b[38;5;132;01m}\u001b[39;00m\u001b[38;5;124m contexts, writing pickled dict\u001b[39m\u001b[38;5;124m'\u001b[39m)\n\u001b[1;32m     89\u001b[0m \u001b[38;5;28;01mwith\u001b[39;00m (ds_conf[\u001b[38;5;124m'\u001b[39m\u001b[38;5;124mpath\u001b[39m\u001b[38;5;124m'\u001b[39m] \u001b[38;5;241m/\u001b[39m \u001b[38;5;124mf\u001b[39m\u001b[38;5;124m'\u001b[39m\u001b[38;5;132;01m{\u001b[39;00mname\u001b[38;5;132;01m}\u001b[39;00m\u001b[38;5;124m-\u001b[39m\u001b[38;5;132;01m{\u001b[39;00mseed\u001b[38;5;132;01m}\u001b[39;00m\u001b[38;5;124m-\u001b[39m\u001b[38;5;132;01m{\u001b[39;00mn\u001b[38;5;132;01m}\u001b[39;00m\u001b[38;5;124m.pkl\u001b[39m\u001b[38;5;124m'\u001b[39m)\u001b[38;5;241m.\u001b[39mopen(mode\u001b[38;5;241m=\u001b[39m\u001b[38;5;124m'\u001b[39m\u001b[38;5;124mwb\u001b[39m\u001b[38;5;124m'\u001b[39m) \u001b[38;5;28;01mas\u001b[39;00m fd:\n\u001b[0;32m---> 90\u001b[0m     pickle\u001b[38;5;241m.\u001b[39mdump(fd, agg)\n",
      "\u001b[0;31mTypeError\u001b[0m: file must have a 'write' attribute"
     ]
    }
   ],
   "source": [
    "import irt2\n",
    "from irt2.dataset import IRT2\n",
    "from irt2.loader import LOADER\n",
    "\n",
    "import gzip\n",
    "import pickle\n",
    "import random\n",
    "from itertools import islice\n",
    "from collections import defaultdict\n",
    "\n",
    "\n",
    "p_data = irt2.ENV.DIR.DATA\n",
    "\n",
    "\n",
    "config = {\n",
    "    'at_most': 30,\n",
    "    'seed': 31189,\n",
    "    'datasets': [\n",
    "        {\n",
    "            \"path\": p_data / \"irt2\" / \"irt2-cde-tiny\",\n",
    "            \"loader\": \"irt2\",\n",
    "            \"percentage\": {\n",
    "                \"validation\": 0.17,\n",
    "                \"test\": 0.02,\n",
    "            },\n",
    "        },\n",
    "        {\n",
    "            \"path\": p_data / \"irt2\" / \"irt2-cde-small\",\n",
    "            \"loader\": \"irt2\",\n",
    "            \"percentage\": {\n",
    "                \"validation\": 0.08,\n",
    "                \"test\": 0.02,\n",
    "            },\n",
    "        },\n",
    "        {\n",
    "            \"path\": p_data / \"irt2\" / \"irt2-cde-medium\",\n",
    "            \"loader\": \"irt2\",\n",
    "            \"percentage\": {\n",
    "                \"validation\": 0.04,\n",
    "                \"test\": 0.01,\n",
    "            },\n",
    "        },\n",
    "        {\n",
    "            \"path\": p_data / \"irt2\" / \"irt2-cde-large\",\n",
    "            \"loader\": \"irt2\",\n",
    "            \"percentage\": {\n",
    "                \"validation\": 0.05,\n",
    "                \"test\": 0.02,\n",
    "            },\n",
    "        },\n",
    "    ],\n",
    "}\n",
    "\n",
    "\n",
    "\n",
    "def draw(ds: IRT2, ds_conf: dict, seed: int, n: int):\n",
    "    managers = {\n",
    "        'closed.train-contexts': ds.closed_contexts,\n",
    "        'open.validation-contexts': ds.open_contexts_val,\n",
    "        'open.test-contexts': ds.open_contexts_test,\n",
    "    }\n",
    "\n",
    "    rng = random.Random(seed)\n",
    "\n",
    "    seperator = ds.config[\"create\"][\"separator\"]\n",
    "    for name, mgr in managers.items():\n",
    "        agg = defaultdict(list)\n",
    "        with mgr() as contexts:\n",
    "            for context in islice(contexts, None):\n",
    "                # reproducibility given as order of insertion stays the same\n",
    "                agg[context.mid].append(context)\n",
    "\n",
    "            for mid in agg:\n",
    "                rng.shuffle(agg[mid])\n",
    "                agg[mid] = agg[mid][:n]\n",
    "\n",
    "        fpath = ds_conf['path'] / f'{name}-{seed}-{n}.txt.gz'\n",
    "        print(f'writing {fpath}')\n",
    "\n",
    "        total = 0\n",
    "        agg = dict(agg)\n",
    "\n",
    "        with gzip.open(fpath, mode='wb') as fd:\n",
    "             for ctx in (ctx for ctxs in agg.values() for ctx in ctxs):\n",
    "                fd.write(ctx.to_line(sep=seperator))\n",
    "                total += 1\n",
    "\n",
    "        print(f'wrote {total} contexts, writing pickled dict')\n",
    "        with (ds_conf['path'] / f'{name}-{seed}-{n}.pkl').open(mode='wb') as fd:\n",
    "            pickle.dump(agg, fd)\n",
    "\n",
    "\n",
    "kwargs = dict(seed=config['seed'], n=config['at_most'])\n",
    "for ds_conf in config['datasets']:\n",
    "    draw(\n",
    "        LOADER[ds_conf['loader']](ds_conf['path']),\n",
    "        ds_conf,\n",
    "        **kwargs,\n",
    "    )\n",
    "\n",
    "\n",
    "\n",
    "# draw(ds=IRT2.from_dir(irt2.ENV.DIR.DATA / 'irt2' / 'irt2-cde-tiny'), **kwargs)"
   ]
  }
 ],
 "metadata": {
  "kernelspec": {
   "argv": [
    "python",
    "-m",
    "ipykernel_launcher",
    "-f",
    "{connection_file}"
   ],
   "display_name": "Python 3 (ipykernel)",
   "env": null,
   "interrupt_mode": "signal",
   "language": "python",
   "metadata": {
    "debugger": true
   },
   "name": "python3"
  },
  "name": "subsample-text.ipynb"
 },
 "nbformat": 4,
 "nbformat_minor": 5
}
