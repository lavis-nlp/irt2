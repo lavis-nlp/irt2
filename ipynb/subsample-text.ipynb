{
 "cells": [
  {
   "cell_type": "markdown",
   "id": "37712761-8ddc-46ec-9248-11e58dec9c40",
   "metadata": {
    "collapsed": false
   },
   "source": [
    "# Text Subsampling\n",
    "\n",
    "We draw up to `n` texts for training/evaluation.\n",
    "This does not concerns blp datasets."
   ]
  },
  {
   "cell_type": "code",
   "execution_count": 6,
   "id": "944f9095-6aa5-4bde-90d7-7959ef7f9ec6",
   "metadata": {
    "collapsed": false
   },
   "outputs": [
    {
     "name": "stdout",
     "output_type": "stream",
     "text": [
      "United States (mid=2844) [origin=Alabama River]\n",
      ">Its length as measured by the United States Geological Survey is ,U.S. Geological Survey.<\n"
     ]
    }
   ],
   "source": [
    "import irt2\n",
    "from irt2.dataset import IRT2\n",
    "\n",
    "import random\n",
    "from itertools import islice\n",
    "from collections import defaultdict\n",
    "\n",
    "N = 30\n",
    "SEED = 31189\n",
    "\n",
    "\n",
    "def draw(ds: IRT2, seed: int, n: int):\n",
    "    managers = {\n",
    "        'closed.train-contexts': ds.closed_contexts,\n",
    "        'open.validation-contexts': ds.open_contexts_val,\n",
    "        'open.test-contexts': ds.open_contexts_test,\n",
    "    }\n",
    "\n",
    "    rng = random.Random(seed)\n",
    "\n",
    "    seperator = ds.config[\"create\"][\"separator\"]\n",
    "    for name, mgr in managers.items():\n",
    "        with mgr() as contexts:\n",
    "            agg = defaultdict(list)\n",
    "\n",
    "            for context in islice(contexts, 1000):\n",
    "                # reproducibility given as order of insertion\n",
    "                # stays the same\n",
    "                agg[context.mid].append(context)\n",
    "\n",
    "            for mid in agg:\n",
    "                rng.shuffle(agg[mid])\n",
    "                selection = agg[mid][:n]\n",
    "\n",
    "                print(selection[0])\n",
    "                return\n",
    "\n",
    "kwargs = dict(seed=SEED, n=N)\n",
    "\n",
    "draw(ds=IRT2.from_dir(irt2.ENV.DIR.DATA / 'irt2' / 'irt2-cde-tiny'), **kwargs)"
   ]
  }
 ],
 "metadata": {
  "kernelspec": {
   "argv": [
    "python",
    "-m",
    "ipykernel_launcher",
    "-f",
    "{connection_file}"
   ],
   "display_name": "Python 3 (ipykernel)",
   "env": null,
   "interrupt_mode": "signal",
   "language": "python",
   "metadata": {
    "debugger": true
   },
   "name": "python3"
  },
  "name": "subsample-text.ipynb"
 },
 "nbformat": 4,
 "nbformat_minor": 5
}
