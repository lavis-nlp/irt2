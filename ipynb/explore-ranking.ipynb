{
 "cells": [
  {
   "cell_type": "markdown",
   "id": "93a06445",
   "metadata": {
    "collapsed": false
   },
   "source": [
    "# Ranking Task"
   ]
  },
  {
   "cell_type": "code",
   "execution_count": 1,
   "id": "b088f68b",
   "metadata": {
    "collapsed": false
   },
   "outputs": [],
   "source": [
    "%load_ext autoreload\n",
    "%autoreload 2"
   ]
  },
  {
   "cell_type": "code",
   "execution_count": 6,
   "id": "dcfe562b",
   "metadata": {
    "collapsed": false
   },
   "outputs": [
    {
     "name": "stdout",
     "output_type": "stream",
     "text": [
      "\n",
      "loaded irt2-cde-tiny:\n",
      "IRT graph: [IRT2/CDE-T] (12389 entities)\n",
      "got ratios for 5 relations\n",
      "\n",
      "loaded irt2-cde-small:\n"
     ]
    },
    {
     "name": "stdout",
     "output_type": "stream",
     "text": [
      "IRT graph: [IRT2/CDE-S] (14207 entities)\n",
      "got ratios for 12 relations\n",
      "\n",
      "loaded irt2-cde-medium:\n"
     ]
    },
    {
     "name": "stdout",
     "output_type": "stream",
     "text": [
      "IRT graph: [IRT2/CDE-M] (15020 entities)\n",
      "got ratios for 45 relations\n",
      "\n",
      "loaded irt2-cde-large:\n"
     ]
    },
    {
     "name": "stdout",
     "output_type": "stream",
     "text": [
      "IRT graph: [IRT2/CDE-L] (15020 entities)\n",
      "got ratios for 45 relations\n"
     ]
    }
   ],
   "source": [
    "import irt2\n",
    "from irt2.dataset import IRT2\n",
    "\n",
    "def load_datasets():\n",
    "    root = irt2.ENV.DIR.DATA / 'irt2'\n",
    "    return {\n",
    "        path.name: IRT2.from_dir(path=path) for path in (\n",
    "            root / 'irt2-cde-tiny',\n",
    "            root / 'irt2-cde-small',\n",
    "            root / 'irt2-cde-medium',\n",
    "            root / 'irt2-cde-large',\n",
    "        )\n",
    "    }\n",
    "\n",
    "datasets = load_datasets()\n",
    "for name, dataset in datasets.items():\n",
    "    print(f\"\\nloaded {name}:\")\n",
    "    print(f\"{dataset.graph}\")\n",
    "    print(f\"got ratios for {len(dataset.relations)} relations\")\n"
   ]
  },
  {
   "cell_type": "code",
   "execution_count": 33,
   "id": "d9e1a4ec",
   "metadata": {
    "collapsed": false
   },
   "outputs": [],
   "source": [
    "dataset = datasets['irt2-cde-large']"
   ]
  },
  {
   "cell_type": "code",
   "execution_count": 38,
   "id": "8d511fbc",
   "metadata": {
    "collapsed": false
   },
   "outputs": [
    {
     "data": {
      "text/plain": [
       "'IRT2/CDE-L'"
      ]
     },
     "execution_count": 38,
     "metadata": {},
     "output_type": "execute_result"
    }
   ],
   "source": []
  },
  {
   "cell_type": "code",
   "execution_count": null,
   "id": "1533554d",
   "metadata": {
    "collapsed": false
   },
   "outputs": [],
   "source": [
    "import irt2\n",
    "from ktz.functools import Cascade\n",
    "\n",
    "\n",
    "run = Cascade(\n",
    "    path=irt2.ENV.DIR.CACHE,\n",
    "    context_stats=f\"{dataset.config['create']['name']}\"\n",
    ")"
   ]
  },
  {
   "cell_type": "code",
   "execution_count": 52,
   "id": "566934c5",
   "metadata": {
    "collapsed": false
   },
   "outputs": [
    {
     "name": "stdout",
     "output_type": "stream",
     "text": [
      "creating context stats; this might take a while\n",
      "choosing from 4831 queries\n",
      "Who was/were rid=32: P1050:medical condition vid=223: Q202837:cardiac arrest\n",
      "  mid=23523: the joan rivers show\n",
      "     it has 0 contexts\n"
     ]
    }
   ],
   "source": [
    "import random\n",
    "\n",
    "from collections import Counter\n",
    "from collections import defaultdict\n",
    "\n",
    "\n",
    "@run.cache('context_stats')\n",
    "def load_context_stats(ds):\n",
    "    print('creating context stats; this might take a while')\n",
    "\n",
    "    from itertools import islice\n",
    "    \n",
    "    stats = defaultdict(Counter)\n",
    "\n",
    "    with ds.open_contexts_val() as ctxs:\n",
    "        for ctx in islice(ctxs, 100):\n",
    "            stats['mids'][ctx.mid] += 1\n",
    "\n",
    "    return dict(stats)\n",
    "\n",
    "\n",
    "@run.when('context_stats')\n",
    "def show_ranking(ds, stats):\n",
    "    task = dataset.open_ranking_val_heads\n",
    "\n",
    "    # given (vid, rid) predict set of mids\n",
    "    print(f\"choosing from {len(task)} queries\")\n",
    "\n",
    "    # randomly pick one\n",
    "    query, gt = random.choice(list(task.items()))\n",
    "    vid, rid = query\n",
    "\n",
    "    print(f'Who was/were {rid=}: {dataset.relations[rid]} {vid=}: {dataset.vertices[vid]}')\n",
    "    for mid in gt:\n",
    "        print(f\"  {mid=}: {dataset.mentions[mid]}\")\n",
    "        print(f\"     it has {stats['mids'][mid]} contexts\")\n",
    "\n",
    "\n",
    "stats = load_context_stats(ds=dataset)\n",
    "# print(sorted(((v, k) for k, v in stats['mids'].items()), reverse=True))\n",
    "show_ranking(ds=dataset, stats=stats)"
   ]
  },
  {
   "cell_type": "code",
   "execution_count": 13,
   "id": "c1cdfa77",
   "metadata": {
    "collapsed": false
   },
   "outputs": [],
   "source": []
  }
 ],
 "metadata": {
  "kernelspec": {
   "argv": [
    "python",
    "-m",
    "ipykernel_launcher",
    "-f",
    "{connection_file}"
   ],
   "display_name": "Python 3 (ipykernel)",
   "env": null,
   "interrupt_mode": "signal",
   "language": "python",
   "metadata": {
    "debugger": true
   },
   "name": "python3"
  },
  "name": "explore-ranking.ipynb"
 },
 "nbformat": 4,
 "nbformat_minor": 5
}
