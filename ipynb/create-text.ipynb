{
 "cells": [
  {
   "cell_type": "code",
   "execution_count": 1,
   "id": "8293a1f0",
   "metadata": {
    "collapsed": false
   },
   "outputs": [
    {
     "name": "stdout",
     "output_type": "stream",
     "text": [
      "irt2.ipynb - test\n"
     ]
    }
   ],
   "source": [
    "# notebook setup\n",
    "\n",
    "%load_ext autoreload\n",
    "%autoreload 2\n",
    "\n",
    "from irt2 import ipynb\n",
    "ipynb.setup_logging()"
   ]
  },
  {
   "cell_type": "code",
   "execution_count": 2,
   "id": "c1b2ea40",
   "metadata": {
    "collapsed": false
   },
   "outputs": [],
   "source": [
    "import irt2\n",
    "import yaml\n",
    "\n",
    "with (irt2.ENV.DIR.CONF / 'create' / 'cde-l.yaml').open(mode='r') as fd:\n",
    "    config = yaml.load(fd, Loader=yaml.FullLoader)"
   ]
  },
  {
   "cell_type": "code",
   "execution_count": null,
   "id": "cf84e09e",
   "metadata": {
    "collapsed": false
   },
   "outputs": [],
   "source": [
    "from ktz.string import args_hash\n",
    "from ktz.functools import Cascade\n",
    "from irt2.create import index_matches\n",
    "\n",
    "# re-use cached matches index from notebook if present\n",
    "hash = args_hash(config)\n",
    "run = Cascade(\n",
    "    path=irt2.ENV.DIR.CACHE,\n",
    "    matches=f'create.ipynb-{hash}-matches',\n",
    ")\n",
    "\n",
    "@run.cache('matches')\n",
    "def load_matches():\n",
    "    return index_matches(\n",
    "        irt2.ENV.DIR.ROOT / config['source matches'],\n",
    "        None,\n",
    "    )\n",
    "\n",
    "load_matches()\n",
    "matches = run.get('matches')\n",
    "assert matches\n"
   ]
  },
  {
   "cell_type": "code",
   "execution_count": null,
   "id": "c9a5d163",
   "metadata": {
    "collapsed": false
   },
   "outputs": [],
   "source": [
    "from datetime import datetime\n",
    "from irt2.create import get_text\n",
    "\n",
    "print(datetime.now())\n",
    "get_text(config, matches, procs=19)\n",
    "print(datetime.now())"
   ]
  }
 ],
 "metadata": {
  "kernelspec": {
   "argv": [
    "python",
    "-m",
    "ipykernel_launcher",
    "-f",
    "{connection_file}"
   ],
   "display_name": "Python 3 (ipykernel)",
   "env": null,
   "interrupt_mode": "signal",
   "language": "python",
   "metadata": {
    "debugger": true
   },
   "name": "python3"
  },
  "name": "create-text.ipynb"
 },
 "nbformat": 4,
 "nbformat_minor": 5
}
