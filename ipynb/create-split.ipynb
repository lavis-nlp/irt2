{
 "cells": [
  {
   "cell_type": "code",
   "execution_count": null,
   "id": "30e93dc4",
   "metadata": {
    "collapsed": false
   },
   "outputs": [],
   "source": [
    "# notebook setup\n",
    "\n",
    "%load_ext autoreload\n",
    "%autoreload 2\n",
    "\n",
    "from irt2 import ipynb\n",
    "ipynb.setup_logging()"
   ]
  },
  {
   "cell_type": "code",
   "execution_count": null,
   "id": "1625eaa4",
   "metadata": {
    "collapsed": false
   },
   "outputs": [],
   "source": [
    "# ---  configure here\n",
    "\n",
    "sampling = 'uniform'\n",
    "size = 'medium'\n"
   ]
  },
  {
   "cell_type": "code",
   "execution_count": null,
   "id": "2837f173",
   "metadata": {
    "collapsed": false
   },
   "outputs": [],
   "source": [
    "import irt2\n",
    "from irt2.create import EID, Mention\n",
    "\n",
    "from pathlib import Path\n",
    "from pprint import pprint\n",
    "\n",
    "from ktz.collections import ryaml\n",
    "\n",
    "import numpy as np\n",
    "import matplotlib.pyplot as plt\n",
    "\n",
    "\n",
    "FOLDER = f'{size}-{sampling}'\n",
    "config = ryaml(\n",
    "    irt2.ENV.DIR.CONF / 'create' / f'cde.yaml',\n",
    "    irt2.ENV.DIR.CONF / 'create' / f'cde-{sampling}.yaml',\n",
    "    irt2.ENV.DIR.CONF / 'create' / f'cde-size-{size}.yaml'\n",
    ")\n",
    "\n",
    "pprint(config)"
   ]
  },
  {
   "cell_type": "code",
   "execution_count": null,
   "id": "d465a3a4",
   "metadata": {
    "collapsed": false
   },
   "outputs": [],
   "source": [
    "from ktz.string import args_hash\n",
    "from ktz.functools import Cascade\n",
    "\n",
    "# set up cascade for development\n",
    "\n",
    "def setup_cascade(config, keys):\n",
    "    # add config parameters here that affect all @run.cache loader\n",
    "    hash = args_hash({k: config[k] for k in {\n",
    "        'source matches',\n",
    "        'prune mentions'\n",
    "    }})\n",
    "    print(hash)\n",
    "\n",
    "    prefix = 'create.ipynb'\n",
    "\n",
    "    cascade = {name: f'{prefix}-{hash}-{name}' for name in keys}\n",
    "    run = Cascade(path=irt2.ENV.DIR.CACHE, **cascade)\n",
    "\n",
    "    return run\n",
    "\n",
    "\n",
    "run = setup_cascade(config, keys=['matches', 'mentions', 'split'])"
   ]
  },
  {
   "cell_type": "code",
   "execution_count": null,
   "id": "af512a29",
   "metadata": {
    "collapsed": false
   },
   "outputs": [],
   "source": [
    "from irt2 import create\n",
    "\n",
    "\n",
    "@run.cache('matches')\n",
    "def load_matches():\n",
    "\n",
    "    matches = create.index_matches(\n",
    "        path=irt2.ENV.DIR.ROOT / config['source matches'],\n",
    "    )\n",
    "\n",
    "    print('\\nmatch index:')\n",
    "    print(f'  total: {len(matches.flat)}')\n",
    "    print(f'  pages: {len(matches.keys(\"page\"))}')\n",
    "    print(f'   eids: {len(matches.keys(\"eid\"))}')\n",
    "\n",
    "    return matches\n",
    "\n",
    "\n",
    "matches = load_matches()"
   ]
  },
  {
   "cell_type": "code",
   "execution_count": null,
   "id": "b2b5496e",
   "metadata": {
    "collapsed": false
   },
   "outputs": [],
   "source": [
    "# plot how matches distribute over entities\n",
    "\n",
    "def plot_dist(\n",
    "    y,\n",
    "    title: str,\n",
    "    subtitle: str,\n",
    "    filenames: list[Path] = None,\n",
    "):\n",
    "    fig, ax = plt.subplots()\n",
    "    fig.suptitle(title)\n",
    "\n",
    "    ax.set_title(subtitle, color='#999')\n",
    "    ax.set_yscale('log')\n",
    "\n",
    "    ax.plot(np.arange(len(y)), y, color='#666')\n",
    "\n",
    "    if filenames:\n",
    "        for filename in filenames:\n",
    "            fig.savefig(filename)\n",
    "\n",
    "\n",
    "@run.when('matches')\n",
    "def plot_distribution_idx(index, **kwargs):\n",
    "\n",
    "    lens = {}\n",
    "    for eid in index.keys('eid'):\n",
    "        n = len(index.dis(eid=eid))\n",
    "        lens[eid] = n\n",
    "\n",
    "    lens = sorted(((n, eid) for eid, n in lens.items()), reverse=True)\n",
    "    y = np.array([n for n, _ in lens])\n",
    "\n",
    "    plot_dist(y=y, **kwargs)\n",
    "\n",
    "\n",
    "plot_distribution_idx(\n",
    "    index=matches,\n",
    "    title=\"Matches Count\",\n",
    "    subtitle=\"{config['source graph']} ({config['source name']})\",\n",
    ")"
   ]
  },
  {
   "cell_type": "code",
   "execution_count": null,
   "id": "ded8fc17",
   "metadata": {
    "collapsed": false
   },
   "outputs": [],
   "source": [
    "from ktz.dataclasses import Index\n",
    "from dataclasses import dataclass\n",
    "\n",
    "print(f\"\\nmapping EIDS to mentions\")\n",
    "print(f\"pruning at threshold: {config['prune mentions']}\")\n",
    "\n",
    "\n",
    "@dataclass\n",
    "class Mentions:\n",
    "\n",
    "    eid2mentions: dict[EID, dict[Mention, int]]\n",
    "    norm2mentions: dict[str, str]\n",
    "\n",
    "\n",
    "@run.cache('mentions')\n",
    "def get_mentions(index: Index, prune: int):\n",
    "    mentions = create.get_mentions(index=index, prune=prune)\n",
    "    print(f'retained {len(mentions.eid2mentions)} mentions')\n",
    "    return mentions\n",
    "\n",
    "\n",
    "mentions = get_mentions(\n",
    "    index=matches,\n",
    "    prune=config['prune mentions'],\n",
    ")"
   ]
  },
  {
   "cell_type": "code",
   "execution_count": null,
   "id": "bd15e86c",
   "metadata": {
    "collapsed": false
   },
   "outputs": [],
   "source": [
    "# some example mentions\n",
    "\n",
    "@run.when('mentions')\n",
    "def print_mention_counts(mentions, eid):\n",
    "    counts = mentions.eid2mentions[eid]\n",
    "\n",
    "    for mention, count in sorted(counts.items(), key=lambda t: t[1], reverse=True):\n",
    "        print(f\"{count:5d} {mention}\" )\n",
    "    print()\n",
    "\n",
    "print_mention_counts(mentions=mentions, eid='Q11708')\n",
    "print_mention_counts(mentions=mentions, eid='Q49297')\n",
    "print_mention_counts(mentions=mentions, eid='Q21077')"
   ]
  },
  {
   "cell_type": "code",
   "execution_count": null,
   "id": "d37d523b",
   "metadata": {
    "collapsed": false
   },
   "outputs": [],
   "source": [
    "# entities with most mentions\n",
    "\n",
    "@run.when('mentions', 'matches')\n",
    "def match_examples(matches, mentions):\n",
    "    for eid, mdic in sorted(mentions.eid2mentions.items(), key=lambda t: len(t[1]), reverse=True)[:20]:\n",
    "        print(len(mdic), eid, list(matches.get(eid=eid))[0].entity)\n",
    "\n",
    "\n",
    "match_examples(matches, mentions)"
   ]
  },
  {
   "cell_type": "code",
   "execution_count": null,
   "id": "7ce3ff2e",
   "metadata": {
    "collapsed": false
   },
   "outputs": [],
   "source": [
    "from collections import Counter\n",
    "\n",
    "\n",
    "@run.when('mentions')\n",
    "def plot_mention_counts(mentions, title, subtitle, **kwargs):\n",
    "    counts = Counter()\n",
    "    for countdic in mentions.eid2mentions.values():\n",
    "        counts[len(countdic)] += 1\n",
    "\n",
    "    y, x = zip(*sorted(counts.items()))\n",
    "\n",
    "    fig, ax = plt.subplots()\n",
    "    fig.suptitle(title)\n",
    "    ax.set_title(subtitle, color='#999')\n",
    "\n",
    "    ax.scatter(x, y, **kwargs)\n",
    "\n",
    "\n",
    "plot_mention_counts(\n",
    "    mentions=mentions,\n",
    "    title=\"Mentions per Entity\",\n",
    "    subtitle=config['source name'],\n",
    "    color='#333',\n",
    "    marker='.',\n",
    ")"
   ]
  },
  {
   "cell_type": "code",
   "execution_count": null,
   "id": "660ae853",
   "metadata": {
    "collapsed": false
   },
   "outputs": [],
   "source": [
    "from irt2.graph import Graph\n",
    "from irt2.graph import load_graph\n",
    "\n",
    "\n",
    "graph = load_graph(\n",
    "    config['graph loader'],\n",
    "    config['graph name'],\n",
    "    *[irt2.ENV.DIR.ROOT / path for path in config['graph loader args']],\n",
    "    **{k: irt2.ENV.DIR.ROOT / path for k, path in config['graph loader kwargs'].items()},\n",
    ")\n",
    "\n",
    "\n",
    "print(graph.description)"
   ]
  },
  {
   "cell_type": "code",
   "execution_count": null,
   "id": "38459f89",
   "metadata": {
    "collapsed": false
   },
   "outputs": [],
   "source": [
    "# split triples/vertices/mentions:\n",
    "#  - select all mentions of concept entities\n",
    "#  - shuffle and split remaining mentions randomly (cw/ow-validation/ow-test)\n",
    "#  - assign vertices based on mention split to be either cw or ow\n",
    "#  - assign triples based on vertex split\n",
    "\n",
    "from irt2.create import Split\n",
    "from IPython.core.debugger import set_trace\n",
    "\n",
    "def create_split(config, graph, mentions):\n",
    "\n",
    "    ratio_train = config['target mention split']\n",
    "    print(f\"targeting {int(ratio_train * 100)}% closed-world mentions\")\n",
    "\n",
    "    ratio_val = config['target validation split']\n",
    "    print(f\"using {int(ratio_val * 100)}% open-world mentions for validation\")\n",
    "\n",
    "    split = Split.create(\n",
    "        graph,\n",
    "        mentions=mentions,\n",
    "        seed=config['seed'],\n",
    "        ratio_train=ratio_train,\n",
    "        ratio_val=ratio_val,\n",
    "        concept_rels=config['concept relations'],\n",
    "        include_rels=config['include relations'],\n",
    "        exclude_rels=config['exclude relations'],\n",
    "        prune=config.get('target mention count', None),\n",
    "        sampling=config['sampling'],\n",
    "    )\n",
    "\n",
    "    print('running self-check...')\n",
    "    split.check()\n",
    "    print('self-check passed')\n",
    "\n",
    "    print(split.description)\n",
    "    print(f'\\nretained {len(split.relations)}/{len(graph.source.rels)} relations')\n",
    "\n",
    "    return split\n",
    "\n",
    "split = create_split(config, graph, mentions)"
   ]
  },
  {
   "cell_type": "code",
   "execution_count": null,
   "id": "9164f774",
   "metadata": {
    "collapsed": false
   },
   "outputs": [],
   "source": [
    "from tabulate import tabulate\n",
    "from irt2.create import create_dataset\n",
    "\n",
    "dataset, counts = create_dataset(\n",
    "    out=irt2.ENV.DIR.DATA / 'irt2' / 'cde' / FOLDER,\n",
    "    config=config,\n",
    "    split=split,\n",
    "    overwrite=True\n",
    ")\n",
    "\n",
    "print(f\"\\n{dataset}\\n\")\n",
    "print(tabulate(sorted(counts.items())))"
   ]
  }
 ],
 "metadata": {
  "kernelspec": {
   "argv": [
    "python",
    "-m",
    "ipykernel_launcher",
    "-f",
    "{connection_file}"
   ],
   "display_name": "Python 3 (ipykernel)",
   "env": null,
   "interrupt_mode": "signal",
   "language": "python",
   "metadata": {
    "debugger": true
   },
   "name": "python3"
  },
  "name": "create-split.ipynb"
 },
 "nbformat": 4,
 "nbformat_minor": 5
}
