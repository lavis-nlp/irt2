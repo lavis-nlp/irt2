{
 "cells": [
  {
   "cell_type": "code",
   "execution_count": 14,
   "id": "dfc37dbf",
   "metadata": {
    "collapsed": false
   },
   "outputs": [
    {
     "name": "stdout",
     "output_type": "stream",
     "text": [
      "The autoreload extension is already loaded. To reload it, use:\n",
      "  %reload_ext autoreload\n"
     ]
    }
   ],
   "source": [
    "# notebook setup\n",
    "\n",
    "%load_ext autoreload\n",
    "%autoreload 2\n",
    "\n",
    "from irt2 import ipynb\n",
    "ipynb.setup_logging()"
   ]
  },
  {
   "cell_type": "code",
   "execution_count": 15,
   "id": "c4c8cf84",
   "metadata": {
    "collapsed": false
   },
   "outputs": [],
   "source": [
    "import irt2\n",
    "from irt2.create import EID, Mention\n",
    "\n",
    "from pathlib import Path\n",
    "from pprint import pprint\n",
    "\n",
    "import yaml\n",
    "\n",
    "import numpy as np\n",
    "import matplotlib.pyplot as plt\n",
    "\n",
    "\n",
    "with (irt2.ENV.DIR.CONF / 'create' / 'cde-l.yaml').open(mode='r') as fd:\n",
    "    config = yaml.safe_load(fd)\n",
    "\n",
    "# pprint(config)"
   ]
  },
  {
   "cell_type": "code",
   "execution_count": 16,
   "id": "153d75dd",
   "metadata": {
    "collapsed": false
   },
   "outputs": [
    {
     "name": "stdout",
     "output_type": "stream",
     "text": [
      "a0226ffed3d95554f15876d09d73706fe0a8933086fada8c6bb0c4f2\n"
     ]
    }
   ],
   "source": [
    "from ktz.string import args_hash\n",
    "from ktz.functools import Cascade\n",
    "\n",
    "# set up cascade for development\n",
    "\n",
    "def setup_cascade(config, keys):\n",
    "    hash = args_hash(config)\n",
    "    print(hash)\n",
    "\n",
    "    prefix = 'create.ipynb'\n",
    "\n",
    "    cascade = {name: f'{prefix}-{hash}-{name}' for name in keys}\n",
    "    run = Cascade(path=irt2.ENV.DIR.CACHE, **cascade)\n",
    "\n",
    "    return run\n",
    "\n",
    "\n",
    "run = setup_cascade(config, keys=['matches', 'mentions', 'split'])"
   ]
  },
  {
   "cell_type": "code",
   "execution_count": 17,
   "id": "625c016d",
   "metadata": {
    "collapsed": false
   },
   "outputs": [],
   "source": [
    "from irt2 import create\n",
    "\n",
    "\n",
    "@run.cache('matches')\n",
    "def load_matches():\n",
    "\n",
    "    matches = create.index_matches(\n",
    "        irt2.ENV.DIR.ROOT / config['source matches'],\n",
    "        None,\n",
    "    )\n",
    "\n",
    "    print('\\nmatch index:')\n",
    "    print(f'  total: {len(matches.flat)}')\n",
    "    print(f'  pages: {len(matches.keys(\"page\"))}')\n",
    "    print(f'   eids: {len(matches.keys(\"eid\"))}')\n",
    "\n",
    "    return matches\n",
    "\n",
    "\n",
    "matches = load_matches()"
   ]
  },
  {
   "cell_type": "code",
   "execution_count": 18,
   "id": "88246777",
   "metadata": {
    "collapsed": false
   },
   "outputs": [],
   "source": [
    "# plot how matches distribute over entities\n",
    "\n",
    "def plot_dist(\n",
    "    y,\n",
    "    title: str,\n",
    "    subtitle: str,\n",
    "    filenames: list[Path] = None,\n",
    "):\n",
    "    fig, ax = plt.subplots()\n",
    "    fig.suptitle(title)\n",
    "\n",
    "    ax.set_title(subtitle, color='#999')\n",
    "    ax.set_yscale('log')\n",
    "\n",
    "    ax.plot(np.arange(len(y)), y, color='#666')\n",
    "\n",
    "    if filenames:\n",
    "        for filename in filenames:\n",
    "            fig.savefig(filename)\n",
    "\n",
    "\n",
    "@run.when('matches')\n",
    "def plot_distribution_idx(index, **kwargs):\n",
    "\n",
    "    lens = {}\n",
    "    for eid in index.keys('eid'):\n",
    "        n = len(index.dis(eid=eid))\n",
    "        lens[eid] = n\n",
    "\n",
    "    lens = sorted(((n, eid) for eid, n in lens.items()), reverse=True)\n",
    "    y = np.array([n for n, _ in lens])\n",
    "\n",
    "    plot_dist(y=y, **kwargs)\n",
    "\n",
    "\n",
    "plot_distribution_idx(\n",
    "    index=matches,\n",
    "    title=\"Matches Count\",\n",
    "    subtitle=\"{config['source graph']} ({config['source name']})\",\n",
    ")"
   ]
  },
  {
   "cell_type": "code",
   "execution_count": 19,
   "id": "11a6c841",
   "metadata": {
    "collapsed": false
   },
   "outputs": [
    {
     "name": "stdout",
     "output_type": "stream",
     "text": [
      "\n",
      "mapping EIDS to mentions\n",
      "pruning at threshold: 5\n"
     ]
    }
   ],
   "source": [
    "from ktz.dataclasses import Index\n",
    "from dataclasses import dataclass\n",
    "\n",
    "print(f\"\\nmapping EIDS to mentions\")\n",
    "print(f\"pruning at threshold: {config['prune mentions']}\")\n",
    "\n",
    "\n",
    "@dataclass\n",
    "class Mentions:\n",
    "\n",
    "    eid2mentions: dict[EID, dict[Mention, int]]\n",
    "    norm2mentions: dict[str, str]\n",
    "\n",
    "\n",
    "@run.cache('mentions')\n",
    "def get_mentions(index: Index, prune: int):\n",
    "    mentions = create.get_mentions(index=index, prune=prune)\n",
    "    print(f'retained {len(mentions.eid2mentions)} mentions')\n",
    "    return mentions\n",
    "\n",
    "\n",
    "mentions = get_mentions(\n",
    "    index=matches,\n",
    "    prune=config['prune mentions'],\n",
    ")"
   ]
  },
  {
   "cell_type": "code",
   "execution_count": 20,
   "id": "1ba1ccc4",
   "metadata": {
    "collapsed": false
   },
   "outputs": [
    {
     "name": "stdout",
     "output_type": "stream",
     "text": [
      "10036 southeast asia\n",
      "  165 southeast\n",
      "  125 south east asia\n",
      "   32 southeast asian\n",
      "   19 south east asian\n",
      "   14 southeast asian countries\n",
      "   13 southeastern asia\n",
      "    9 southeast asian region\n",
      "    8 sea\n",
      "    5 south east\n",
      "    5 southeastern\n",
      "\n",
      " 9807 native american\n",
      " 5211 native americans\n",
      " 1640 indian\n",
      " 1272 indians\n",
      " 1106 american indian\n",
      "  620 native\n",
      "  424 american indians\n",
      "  114 native americans in the united states\n",
      "  106 american\n",
      "   49 natives\n",
      "   48 indigenous\n",
      "   36 native american tribes\n",
      "   34 indigenous peoples\n",
      "   30 indian tribes\n",
      "   24 united states\n",
      "   22 tribe\n",
      "   20 indigenous people\n",
      "   18 native peoples\n",
      "   16 tribal\n",
      "   14 native american tribe\n",
      "   12 american indian or alaska native\n",
      "   10 native american peoples\n",
      "   10 native american people\n",
      "    9 native american indians\n",
      "    9 aboriginal american\n",
      "    9 indian affairs\n",
      "    8 american indian and alaska native\n",
      "    7 native indians\n",
      "    7 native tribes\n",
      "    7 native indian\n",
      "    7 tribes\n",
      "    6 first nations\n",
      "    6 native american indian\n",
      "    6 bands\n",
      "    5 native people\n",
      "    5 indigenous americans\n",
      "    5 aboriginal\n",
      "\n",
      " 1209 warner music group\n",
      "  544 wea\n",
      "  453 warner\n",
      "  336 warner music\n",
      "  141 warner music japan\n",
      "   74 warner music taiwan\n",
      "   49 wea records\n",
      "   43 warner music philippines\n",
      "   40 warner music finland\n",
      "   37 warner bros\n",
      "   30 wea international\n",
      "   27 warner music uk\n",
      "   27 warner music sweden\n",
      "   18 warner pioneer\n",
      "   14 wea latina\n",
      "   13 wmg\n",
      "   12 warner classics\n",
      "   11 warner bros records\n",
      "   10 wea japan\n",
      "   10 warner music korea\n",
      "   10 warner brothers\n",
      "   10 warner music nashville\n",
      "    9 warner music france\n",
      "    9 warner music mexico\n",
      "    7 warner music malaysia\n",
      "    7 warner music spain\n",
      "    6 wb music corp\n",
      "    5 warner music group's arts music\n",
      "    5 arts music\n",
      "    5 warner music australia\n",
      "    5 warner music norway\n",
      "    5 sister label\n",
      "    5 warner pioneer corporation\n",
      "    5 warner music russia\n",
      "    5 wea australia\n",
      "    5 warner music germany\n",
      "    5 warner's\n",
      "\n"
     ]
    }
   ],
   "source": [
    "# some example mentions\n",
    "\n",
    "@run.when('mentions')\n",
    "def print_mention_counts(mentions, eid):\n",
    "    counts = mentions.eid2mentions[eid]\n",
    "\n",
    "    for mention, count in sorted(counts.items(), key=lambda t: t[1], reverse=True):\n",
    "        print(f\"{count:5d} {mention}\" )\n",
    "    print()\n",
    "\n",
    "print_mention_counts(mentions=mentions, eid='Q11708')\n",
    "print_mention_counts(mentions=mentions, eid='Q49297')\n",
    "print_mention_counts(mentions=mentions, eid='Q21077')"
   ]
  },
  {
   "cell_type": "code",
   "execution_count": 21,
   "id": "bcb9377f",
   "metadata": {
    "collapsed": false
   },
   "outputs": [],
   "source": [
    "# entities with most mentions\n",
    "\n",
    "@run.when('mentions', 'matches')\n",
    "def match_examples(matches, mentions):\n",
    "    for eid, mdic in sorted(mentions.eid2mentions.items(), key=lambda t: len(t[1]), reverse=True)[:20]:\n",
    "        print(len(mdic), eid, list(matches.get(eid=eid))[0].entity)\n",
    "\n",
    "\n",
    "match_examples(matches, mentions)"
   ]
  },
  {
   "cell_type": "code",
   "execution_count": 22,
   "id": "b78fd901",
   "metadata": {
    "collapsed": false
   },
   "outputs": [
    {
     "data": {
      "image/png": "[encoded data removed]",
      "text/plain": [
       "<Figure size 432x288 with 1 Axes>"
      ]
     },
     "metadata": {
      "needs_background": "light"
     },
     "output_type": "display_data"
    }
   ],
   "source": [
    "from collections import Counter\n",
    "\n",
    "\n",
    "@run.when('mentions')\n",
    "def plot_mention_counts(mentions, title, subtitle, **kwargs):\n",
    "    counts = Counter()\n",
    "    for countdic in mentions.eid2mentions.values():\n",
    "        counts[len(countdic)] += 1\n",
    "\n",
    "    y, x = zip(*sorted(counts.items()))\n",
    "\n",
    "    fig, ax = plt.subplots()\n",
    "    fig.suptitle(title)\n",
    "    ax.set_title(subtitle, color='#999')\n",
    "\n",
    "    ax.scatter(x, y, **kwargs)\n",
    "\n",
    "\n",
    "plot_mention_counts(\n",
    "    mentions=mentions,\n",
    "    title=\"Mentions per Entity\",\n",
    "    subtitle=config['source name'],\n",
    "    color='#333',\n",
    "    marker='.',\n",
    ")"
   ]
  },
  {
   "cell_type": "code",
   "execution_count": 23,
   "id": "31aae26d",
   "metadata": {
    "collapsed": false
   },
   "outputs": [
    {
     "name": "stdout",
     "output_type": "stream",
     "text": [
      "IRT2 GRAPH: CodEx-M\n",
      "  nodes: 17050\n",
      "  edges: 206205 (51 types)\n",
      "  degree:\n",
      "    mean 24.19\n",
      "    median 13\n",
      "\n"
     ]
    }
   ],
   "source": [
    "from irt2.graph import Graph\n",
    "from irt2.graph import load_graph\n",
    "\n",
    "\n",
    "graph = load_graph(\n",
    "    config['graph loader'],\n",
    "    config['graph name'],\n",
    "    *[irt2.ENV.DIR.ROOT / path for path in config['graph loader args']],\n",
    "    **{k: irt2.ENV.DIR.ROOT / path for k, path in config['graph loader kwargs'].items()},\n",
    ")\n",
    "\n",
    "\n",
    "print(graph.description)"
   ]
  },
  {
   "cell_type": "code",
   "execution_count": 24,
   "id": "a6d23d42",
   "metadata": {
    "collapsed": false
   },
   "outputs": [
    {
     "name": "stdout",
     "output_type": "stream",
     "text": [
      "targeting 70% closed-world mentions\n",
      "using 30% open-world mentions for validation\n"
     ]
    },
    {
     "name": "stdout",
     "output_type": "stream",
     "text": [
      "irt2.create - retaining 16173/17050 vertices\n"
     ]
    },
    {
     "name": "stdout",
     "output_type": "stream",
     "text": [
      "irt2.create - set aside 12779 concept mentions\n"
     ]
    },
    {
     "name": "stdout",
     "output_type": "stream",
     "text": [
      "irt2.create - splitting mention candidates: 0:9799:12825:19887\n"
     ]
    },
    {
     "name": "stdout",
     "output_type": "stream",
     "text": [
      "running self-check...\n"
     ]
    },
    {
     "name": "stdout",
     "output_type": "stream",
     "text": [
      "self-check passed\n"
     ]
    },
    {
     "name": "stdout",
     "output_type": "stream",
     "text": [
      "                               mentions    vertices    triples\n",
      "---------------------------  ----------  ----------  ---------\n",
      "concept                           12779        2200      11122\n",
      "closed world                      22578        9769     158463\n",
      "open world (exclusive)            10088        5251       1243\n",
      "open world (inklusive)            10088        7696      95712\n",
      "open/validation (inklusive)\n",
      "heads                              2994        2706      33900\n",
      "tails                              1126         958       3667\n",
      "both                               3026        2732      36804\n",
      "open/test (inklusive)\n",
      "heads                              6993        5690      69245\n",
      "tails                              2503        1877       7010\n",
      "both                               7062        5737      73203\n",
      "\n",
      "retained 46/51 relations\n"
     ]
    }
   ],
   "source": [
    "# split triples/vertices/mentions:\n",
    "#  - select all mentions of concept entities\n",
    "#  - shuffle and split remaining mentions randomly (cw/ow-validation/ow-test)\n",
    "#  - assign vertices based on mention split to be either cw or ow\n",
    "#  - assign triples based on vertex split\n",
    "\n",
    "from irt2.create import Split\n",
    "\n",
    "def create_split(config, graph, mentions):\n",
    "\n",
    "    ratio_train = config['target mention split']\n",
    "    print(f\"targeting {int(ratio_train * 100)}% closed-world mentions\")\n",
    "\n",
    "    ratio_val = config['target validation split']\n",
    "    print(f\"using {int(ratio_val * 100)}% open-world mentions for validation\")\n",
    "\n",
    "    split = Split.create(\n",
    "        graph,\n",
    "        mentions=mentions,\n",
    "        seed=config['seed'],\n",
    "        ratio_train=ratio_train,\n",
    "        ratio_val=ratio_val,\n",
    "        concept_rels=config['concept relations'],\n",
    "        include_rels=config['include relations'],\n",
    "        exclude_rels=config['exclude relations'],\n",
    "    )\n",
    "\n",
    "    print('running self-check...')\n",
    "    split.check()\n",
    "    print('self-check passed')\n",
    "\n",
    "    print(split.description)\n",
    "    print(f'\\nretained {len(split.relations)}/{len(graph.source.rels)} relations')\n",
    "\n",
    "    return split\n",
    "\n",
    "split = create_split(config, graph, mentions)"
   ]
  },
  {
   "cell_type": "code",
   "execution_count": 45,
   "id": "4f9ebe80",
   "metadata": {
    "collapsed": false
   },
   "outputs": [
    {
     "name": "stdout",
     "output_type": "stream",
     "text": [
      "irt2.create - vid mapping: retained 15020\n"
     ]
    },
    {
     "name": "stdout",
     "output_type": "stream",
     "text": [
      "irt2.create - rid mapping: retained 46\n"
     ]
    },
    {
     "name": "stdout",
     "output_type": "stream",
     "text": [
      "irt2.create - mid mapping: retained 32666\n"
     ]
    },
    {
     "name": "stdout",
     "output_type": "stream",
     "text": [
      "irt2.create - open/validation: added 38363 head tasks from 33900 triples\n"
     ]
    },
    {
     "name": "stdout",
     "output_type": "stream",
     "text": [
      "irt2.create - open/validation: added 4454 tail tasks from 3667 triples\n"
     ]
    },
    {
     "name": "stdout",
     "output_type": "stream",
     "text": [
      "irt2.create - open/test: added 88620 head tasks from 69245 triples\n"
     ]
    },
    {
     "name": "stdout",
     "output_type": "stream",
     "text": [
      "irt2.create - open/test: added 9944 tail tasks from 7010 triples\n"
     ]
    },
    {
     "name": "stdout",
     "output_type": "stream",
     "text": [
      "irt2.create - distributing text, this might take a while...\n"
     ]
    },
    {
     "name": "stdout",
     "output_type": "stream",
     "text": [
      "irt2.create - distributed 30923100 sentences\n"
     ]
    },
    {
     "name": "stdout",
     "output_type": "stream",
     "text": [
      "\n",
      "IRT2/CDE-L: 15020 vertices | 46 relations | 32666 mentions\n",
      "\n",
      "------------------------  --------\n",
      "ids mentions                 32666\n",
      "ids relations                   46\n",
      "ids vertices                 15020\n",
      "open closed mentions         22578\n",
      "open open mentions           10088\n",
      "open test head               88620\n",
      "open test tail                9944\n",
      "open validation head         38363\n",
      "open validation tail          4454\n",
      "text retained test         1180605\n",
      "text retained training    18616203\n",
      "text retained validation    477826\n",
      "text skipped eid          10542870\n",
      "text skipped mid            105596\n",
      "text total                30923100\n",
      "triples closed-world        158463\n",
      "------------------------  --------\n"
     ]
    }
   ],
   "source": [
    "from tabulate import tabulate\n",
    "from irt2.create import create_dataset\n",
    "\n",
    "dataset, counts = create_dataset(\n",
    "    out=irt2.ENV.DIR.DATA / 'irt2' / 'cde' / 'large',\n",
    "    config=config,\n",
    "    split=split,\n",
    "    overwrite=True\n",
    ")\n",
    "\n",
    "print(f\"\\n{dataset}\\n\")\n",
    "print(tabulate(sorted(counts.items())))"
   ]
  },
  {
   "cell_type": "code",
   "execution_count": 42,
   "id": "830fc129",
   "metadata": {
    "collapsed": false
   },
   "outputs": [],
   "source": [
    "def trace():\n",
    "    vid = 14719\n",
    "\n",
    "    print(dataset.vertices[vid])\n",
    "    print(vid in dataset.open_mentions_test)\n",
    "\n",
    "    print(dataset.open_mentions_test[vid])\n",
    "    print(dataset.mentions[30429])\n",
    "\n",
    "    lookup = {\n",
    "        (vid, dataset.mentions[mid]): mid\n",
    "        for vid, mid in unbucket(dataset.open_mentions_test)\n",
    "    }\n",
    "\n",
    "    print(lookup[vid, 'stefan stambolov'])\n",
    "\n",
    "    # missing mention: \"stambolov\"\n",
    "\n",
    "    print(mentions.eid2mentions['Q313833'])"
   ]
  }
 ],
 "metadata": {
  "kernelspec": {
   "argv": [
    "python",
    "-m",
    "ipykernel_launcher",
    "-f",
    "{connection_file}"
   ],
   "display_name": "Python 3 (ipykernel)",
   "env": null,
   "interrupt_mode": "signal",
   "language": "python",
   "metadata": {
    "debugger": true
   },
   "name": "python3"
  },
  "name": "create-split.ipynb"
 },
 "nbformat": 4,
 "nbformat_minor": 5
}
