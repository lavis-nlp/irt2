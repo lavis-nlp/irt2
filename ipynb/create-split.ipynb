{
 "cells": [
  {
   "cell_type": "code",
   "execution_count": 1,
   "id": "02ffba32",
   "metadata": {
    "collapsed": false
   },
   "outputs": [
    {
     "name": "stdout",
     "output_type": "stream",
     "text": [
      "irt2.ipynb - test\n"
     ]
    }
   ],
   "source": [
    "# notebook setup\n",
    "\n",
    "%load_ext autoreload\n",
    "%autoreload 2\n",
    "\n",
    "from irt2 import ipynb\n",
    "ipynb.setup_logging()"
   ]
  },
  {
   "cell_type": "code",
   "execution_count": 2,
   "id": "c03f0e7b",
   "metadata": {
    "collapsed": false
   },
   "outputs": [
    {
     "name": "stdout",
     "output_type": "stream",
     "text": [
      "{'concept relations': ['P1412:languages spoken, written, or signed',\n",
      "                       'P27:country of citizenship',\n",
      "                       'P30:continent'],\n",
      " 'exclude relations': [],\n",
      " 'graph loader': 'codex',\n",
      " 'graph loader args': ['lib/codex/data/triples/codex-m/train.txt',\n",
      "                       'lib/codex/data/triples/codex-m/valid.txt',\n",
      "                       'lib/codex/data/triples/codex-m/test.txt'],\n",
      " 'graph loader kwargs': {'f_ent2id': 'lib/codex/data/entities/en/entities.json',\n",
      "                         'f_rel2id': 'lib/codex/data/relations/en/relations.json'},\n",
      " 'graph name': 'CodEx-M',\n",
      " 'include relations': ['P1412:languages spoken, written, or signed',\n",
      "                       'P27:country of citizenship',\n",
      "                       'P30:continent',\n",
      "                       'P106:occupation',\n",
      "                       'P19:place of birth'],\n",
      " 'name': 'IRT2/CDE-XS',\n",
      " 'prune mentions': 5,\n",
      " 'seed': 5012022,\n",
      " 'separator': '|',\n",
      " 'source graph': 'Wikidata',\n",
      " 'source matches': 'data/source/matches/irt.cde/irt.cde.matches-full.csv',\n",
      " 'source name': 'CodEx',\n",
      " 'source pages': 'data/source/matches/db/matches-v6-codex.db',\n",
      " 'source sentences': 'data/source/sentences/matches-v6-codex.db.gz',\n",
      " 'spacy model': 'en_core_web_lg',\n",
      " 'target mention count': 400,\n",
      " 'target mention split': 0.7,\n",
      " 'target validation split': 0.1}\n"
     ]
    }
   ],
   "source": [
    "import irt2\n",
    "from irt2.create import EID, Mention\n",
    "\n",
    "from pathlib import Path\n",
    "from pprint import pprint\n",
    "\n",
    "from ktz.collections import ryaml\n",
    "\n",
    "import numpy as np\n",
    "import matplotlib.pyplot as plt\n",
    "\n",
    "\n",
    "config = ryaml(\n",
    "    irt2.ENV.DIR.CONF / 'create' / 'cde.yaml',\n",
    "    irt2.ENV.DIR.CONF / 'create' / 'cde-xs.yaml'\n",
    ")\n",
    "\n",
    "pprint(config)"
   ]
  },
  {
   "cell_type": "code",
   "execution_count": 3,
   "id": "dd4f9e37",
   "metadata": {
    "collapsed": false
   },
   "outputs": [
    {
     "name": "stdout",
     "output_type": "stream",
     "text": [
      "7737d719ea03b856b7e685f126d6abfdb2b97b8a3d36849b88303b5e\n",
      "ktz.functools - cascade: will resume at mentions\n"
     ]
    }
   ],
   "source": [
    "from ktz.string import args_hash\n",
    "from ktz.functools import Cascade\n",
    "\n",
    "# set up cascade for development\n",
    "\n",
    "def setup_cascade(config, keys):\n",
    "    hash = args_hash(config)\n",
    "    print(hash)\n",
    "\n",
    "    prefix = 'create.ipynb'\n",
    "\n",
    "    cascade = {name: f'{prefix}-{hash}-{name}' for name in keys}\n",
    "    run = Cascade(path=irt2.ENV.DIR.CACHE, **cascade)\n",
    "\n",
    "    return run\n",
    "\n",
    "\n",
    "run = setup_cascade(config, keys=['matches', 'mentions', 'split'])"
   ]
  },
  {
   "cell_type": "code",
   "execution_count": 4,
   "id": "8f91ced9",
   "metadata": {
    "collapsed": false
   },
   "outputs": [
    {
     "name": "stdout",
     "output_type": "stream",
     "text": [
      "ktz.functools - cascade: skipping matches\n"
     ]
    }
   ],
   "source": [
    "from irt2 import create\n",
    "\n",
    "\n",
    "@run.cache('matches')\n",
    "def load_matches():\n",
    "\n",
    "    matches = create.index_matches(\n",
    "        irt2.ENV.DIR.ROOT / config['source matches'],\n",
    "        None,\n",
    "    )\n",
    "\n",
    "    print('\\nmatch index:')\n",
    "    print(f'  total: {len(matches.flat)}')\n",
    "    print(f'  pages: {len(matches.keys(\"page\"))}')\n",
    "    print(f'   eids: {len(matches.keys(\"eid\"))}')\n",
    "\n",
    "    return matches\n",
    "\n",
    "\n",
    "matches = load_matches()"
   ]
  },
  {
   "cell_type": "code",
   "execution_count": 5,
   "id": "7963a44c",
   "metadata": {
    "collapsed": false
   },
   "outputs": [],
   "source": [
    "# plot how matches distribute over entities\n",
    "\n",
    "def plot_dist(\n",
    "    y,\n",
    "    title: str,\n",
    "    subtitle: str,\n",
    "    filenames: list[Path] = None,\n",
    "):\n",
    "    fig, ax = plt.subplots()\n",
    "    fig.suptitle(title)\n",
    "\n",
    "    ax.set_title(subtitle, color='#999')\n",
    "    ax.set_yscale('log')\n",
    "\n",
    "    ax.plot(np.arange(len(y)), y, color='#666')\n",
    "\n",
    "    if filenames:\n",
    "        for filename in filenames:\n",
    "            fig.savefig(filename)\n",
    "\n",
    "\n",
    "@run.when('matches')\n",
    "def plot_distribution_idx(index, **kwargs):\n",
    "\n",
    "    lens = {}\n",
    "    for eid in index.keys('eid'):\n",
    "        n = len(index.dis(eid=eid))\n",
    "        lens[eid] = n\n",
    "\n",
    "    lens = sorted(((n, eid) for eid, n in lens.items()), reverse=True)\n",
    "    y = np.array([n for n, _ in lens])\n",
    "\n",
    "    plot_dist(y=y, **kwargs)\n",
    "\n",
    "\n",
    "plot_distribution_idx(\n",
    "    index=matches,\n",
    "    title=\"Matches Count\",\n",
    "    subtitle=\"{config['source graph']} ({config['source name']})\",\n",
    ")"
   ]
  },
  {
   "cell_type": "code",
   "execution_count": 6,
   "id": "3b257927",
   "metadata": {
    "collapsed": false
   },
   "outputs": [
    {
     "name": "stdout",
     "output_type": "stream",
     "text": [
      "\n",
      "mapping EIDS to mentions\n",
      "pruning at threshold: 5\n",
      "ktz.functools - cascade: loading mentions from create.ipynb-7737d719ea03b856b7e685f126d6abfdb2b97b8a3d36849b88303b5e-mentions\n"
     ]
    }
   ],
   "source": [
    "from ktz.dataclasses import Index\n",
    "from dataclasses import dataclass\n",
    "\n",
    "print(f\"\\nmapping EIDS to mentions\")\n",
    "print(f\"pruning at threshold: {config['prune mentions']}\")\n",
    "\n",
    "\n",
    "@dataclass\n",
    "class Mentions:\n",
    "\n",
    "    eid2mentions: dict[EID, dict[Mention, int]]\n",
    "    norm2mentions: dict[str, str]\n",
    "\n",
    "\n",
    "@run.cache('mentions')\n",
    "def get_mentions(index: Index, prune: int):\n",
    "    mentions = create.get_mentions(index=index, prune=prune)\n",
    "    print(f'retained {len(mentions.eid2mentions)} mentions')\n",
    "    return mentions\n",
    "\n",
    "\n",
    "mentions = get_mentions(\n",
    "    index=matches,\n",
    "    prune=config['prune mentions'],\n",
    ")"
   ]
  },
  {
   "cell_type": "code",
   "execution_count": 7,
   "id": "a2669be5",
   "metadata": {
    "collapsed": false
   },
   "outputs": [
    {
     "name": "stdout",
     "output_type": "stream",
     "text": [
      "10036 southeast asia\n",
      "  165 southeast\n",
      "  125 south east asia\n",
      "   32 southeast asian\n",
      "   19 south east asian\n",
      "   14 southeast asian countries\n",
      "   13 southeastern asia\n",
      "    9 southeast asian region\n",
      "    8 sea\n",
      "    5 southeastern\n",
      "    5 south east\n",
      "\n",
      " 9807 native american\n",
      " 5211 native americans\n",
      " 1640 indian\n",
      " 1272 indians\n",
      " 1106 american indian\n",
      "  620 native\n",
      "  424 american indians\n",
      "  114 native americans in the united states\n",
      "  106 american\n",
      "   49 natives\n",
      "   48 indigenous\n",
      "   36 native american tribes\n",
      "   34 indigenous peoples\n",
      "   30 indian tribes\n",
      "   24 united states\n",
      "   22 tribe\n",
      "   20 indigenous people\n",
      "   18 native peoples\n",
      "   16 tribal\n",
      "   14 native american tribe\n",
      "   12 american indian or alaska native\n",
      "   10 native american people\n",
      "   10 native american peoples\n",
      "    9 aboriginal american\n",
      "    9 native american indians\n",
      "    9 indian affairs\n",
      "    8 american indian and alaska native\n",
      "    7 native indian\n",
      "    7 native tribes\n",
      "    7 native indians\n",
      "    7 tribes\n",
      "    6 first nations\n",
      "    6 native american indian\n",
      "    6 bands\n",
      "    5 native people\n",
      "    5 indigenous americans\n",
      "    5 aboriginal\n",
      "\n",
      " 1209 warner music group\n",
      "  544 wea\n",
      "  453 warner\n",
      "  336 warner music\n",
      "  141 warner music japan\n",
      "   74 warner music taiwan\n",
      "   49 wea records\n",
      "   43 warner music philippines\n",
      "   40 warner music finland\n",
      "   37 warner bros\n",
      "   30 wea international\n",
      "   27 warner music uk\n",
      "   27 warner music sweden\n",
      "   18 warner pioneer\n",
      "   14 wea latina\n",
      "   13 wmg\n",
      "   12 warner classics\n",
      "   11 warner bros records\n",
      "   10 wea japan\n",
      "   10 warner music nashville\n",
      "   10 warner brothers\n",
      "   10 warner music korea\n",
      "    9 warner music france\n",
      "    9 warner music mexico\n",
      "    7 warner music malaysia\n",
      "    7 warner music spain\n",
      "    6 wb music corp\n",
      "    5 arts music\n",
      "    5 warner music germany\n",
      "    5 warner music russia\n",
      "    5 sister label\n",
      "    5 warner's\n",
      "    5 warner pioneer corporation\n",
      "    5 warner music group's arts music\n",
      "    5 warner music australia\n",
      "    5 wea australia\n",
      "    5 warner music norway\n",
      "\n"
     ]
    }
   ],
   "source": [
    "# some example mentions\n",
    "\n",
    "@run.when('mentions')\n",
    "def print_mention_counts(mentions, eid):\n",
    "    counts = mentions.eid2mentions[eid]\n",
    "\n",
    "    for mention, count in sorted(counts.items(), key=lambda t: t[1], reverse=True):\n",
    "        print(f\"{count:5d} {mention}\" )\n",
    "    print()\n",
    "\n",
    "print_mention_counts(mentions=mentions, eid='Q11708')\n",
    "print_mention_counts(mentions=mentions, eid='Q49297')\n",
    "print_mention_counts(mentions=mentions, eid='Q21077')"
   ]
  },
  {
   "cell_type": "code",
   "execution_count": 8,
   "id": "47638889",
   "metadata": {
    "collapsed": false
   },
   "outputs": [],
   "source": [
    "# entities with most mentions\n",
    "\n",
    "@run.when('mentions', 'matches')\n",
    "def match_examples(matches, mentions):\n",
    "    for eid, mdic in sorted(mentions.eid2mentions.items(), key=lambda t: len(t[1]), reverse=True)[:20]:\n",
    "        print(len(mdic), eid, list(matches.get(eid=eid))[0].entity)\n",
    "\n",
    "\n",
    "match_examples(matches, mentions)"
   ]
  },
  {
   "cell_type": "code",
   "execution_count": 9,
   "id": "e5b60229",
   "metadata": {
    "collapsed": false
   },
   "outputs": [
    {
     "data": {
      "image/png": "[encoded data removed]",
      "text/plain": [
       "<Figure size 432x288 with 1 Axes>"
      ]
     },
     "metadata": {
      "needs_background": "light"
     },
     "output_type": "display_data"
    }
   ],
   "source": [
    "from collections import Counter\n",
    "\n",
    "\n",
    "@run.when('mentions')\n",
    "def plot_mention_counts(mentions, title, subtitle, **kwargs):\n",
    "    counts = Counter()\n",
    "    for countdic in mentions.eid2mentions.values():\n",
    "        counts[len(countdic)] += 1\n",
    "\n",
    "    y, x = zip(*sorted(counts.items()))\n",
    "\n",
    "    fig, ax = plt.subplots()\n",
    "    fig.suptitle(title)\n",
    "    ax.set_title(subtitle, color='#999')\n",
    "\n",
    "    ax.scatter(x, y, **kwargs)\n",
    "\n",
    "\n",
    "plot_mention_counts(\n",
    "    mentions=mentions,\n",
    "    title=\"Mentions per Entity\",\n",
    "    subtitle=config['source name'],\n",
    "    color='#333',\n",
    "    marker='.',\n",
    ")"
   ]
  },
  {
   "cell_type": "code",
   "execution_count": 10,
   "id": "dba6ea99",
   "metadata": {
    "collapsed": false
   },
   "outputs": [
    {
     "name": "stdout",
     "output_type": "stream",
     "text": [
      "IRT2 GRAPH: CodEx-M\n",
      "  nodes: 17050\n",
      "  edges: 206205 (51 types)\n",
      "  degree:\n",
      "    mean 24.19\n",
      "    median 13\n",
      "\n"
     ]
    }
   ],
   "source": [
    "from irt2.graph import Graph\n",
    "from irt2.graph import load_graph\n",
    "\n",
    "\n",
    "graph = load_graph(\n",
    "    config['graph loader'],\n",
    "    config['graph name'],\n",
    "    *[irt2.ENV.DIR.ROOT / path for path in config['graph loader args']],\n",
    "    **{k: irt2.ENV.DIR.ROOT / path for k, path in config['graph loader kwargs'].items()},\n",
    ")\n",
    "\n",
    "\n",
    "print(graph.description)"
   ]
  },
  {
   "cell_type": "code",
   "execution_count": 89,
   "id": "ff648f5a",
   "metadata": {
    "collapsed": false
   },
   "outputs": [
    {
     "name": "stdout",
     "output_type": "stream",
     "text": [
      "targeting 70% closed-world mentions\n",
      "using 10% open-world mentions for validation\n",
      "irt2.create - setting seed to 5012022\n"
     ]
    },
    {
     "name": "stdout",
     "output_type": "stream",
     "text": [
      "irt2.create - retaining 12389/17050 vertices\n"
     ]
    },
    {
     "name": "stdout",
     "output_type": "stream",
     "text": [
      "irt2.create - no mention: 2030, not retained: 4656, no triples: 5\n"
     ]
    },
    {
     "name": "stdout",
     "output_type": "stream",
     "text": [
      "irt2.create - set aside 2915 concept mentions\n"
     ]
    },
    {
     "name": "stdout",
     "output_type": "stream",
     "text": [
      "irt2.create - create initial open-world split at 16725/23894\n"
     ]
    },
    {
     "name": "stdout",
     "output_type": "stream",
     "text": [
      "irt2.create - pruning closed world to contain at most 400 mentions per relation\n"
     ]
    },
    {
     "name": "stdout",
     "output_type": "stream",
     "text": [
      "irt2.create - before: len(cw)=16725 and len(ow)=7169\n"
     ]
    },
    {
     "name": "stdout",
     "output_type": "stream",
     "text": [
      "irt2.create - total: 16725 retained concept: 2915 retained: 1488 pruned: 12322\n"
     ]
    },
    {
     "name": "stdout",
     "output_type": "stream",
     "text": [
      "irt2.create - after: len(cw)=4403 and len(ow)=19491\n"
     ]
    },
    {
     "name": "stdout",
     "output_type": "stream",
     "text": [
      "irt2.create - split ow with 0.100\n"
     ]
    },
    {
     "name": "stdout",
     "output_type": "stream",
     "text": [
      "irt2.create -  train=4403 valid=1949 test=17542\n"
     ]
    },
    {
     "name": "stdout",
     "output_type": "stream",
     "text": [
      "running self-check...\n"
     ]
    },
    {
     "name": "stdout",
     "output_type": "stream",
     "text": [
      "self-check passed\n",
      "                           mentions    vertices    triples\n",
      "-----------------------  ----------  ----------  ---------\n",
      "concept                        2915         283        231\n",
      "closed world (training)        4403        1132       2680\n",
      "open/validation\n",
      "heads                          1789        1651      11115\n",
      "tails                           187         154      19549\n",
      "both                           1949        1784      27847\n",
      "open/test\n",
      "heads                         16025       10553      69099\n",
      "tails                          1769         514      44836\n",
      "both                          17542       10996      73141\n",
      "\n",
      "retained 5/51 relations\n"
     ]
    }
   ],
   "source": [
    "# split triples/vertices/mentions:\n",
    "#  - select all mentions of concept entities\n",
    "#  - shuffle and split remaining mentions randomly (cw/ow-validation/ow-test)\n",
    "#  - assign vertices based on mention split to be either cw or ow\n",
    "#  - assign triples based on vertex split\n",
    "\n",
    "from irt2.create import Split\n",
    "from IPython.core.debugger import set_trace\n",
    "\n",
    "def create_split(config, graph, mentions):\n",
    "\n",
    "    ratio_train = config['target mention split']\n",
    "    print(f\"targeting {int(ratio_train * 100)}% closed-world mentions\")\n",
    "\n",
    "    ratio_val = config['target validation split']\n",
    "    print(f\"using {int(ratio_val * 100)}% open-world mentions for validation\")\n",
    "\n",
    "    split = Split.create(\n",
    "        graph,\n",
    "        mentions=mentions,\n",
    "        seed=config['seed'],\n",
    "        ratio_train=ratio_train,\n",
    "        ratio_val=ratio_val,\n",
    "        concept_rels=config['concept relations'],\n",
    "        include_rels=config['include relations'],\n",
    "        exclude_rels=config['exclude relations'],\n",
    "        prune=config.get('target mention count', None),\n",
    "    )\n",
    "\n",
    "    print('running self-check...')\n",
    "    split.check()\n",
    "    print('self-check passed')\n",
    "\n",
    "    print(split.description)\n",
    "    print(f'\\nretained {len(split.relations)}/{len(graph.source.rels)} relations')\n",
    "\n",
    "    return split\n",
    "\n",
    "split = create_split(config, graph, mentions)"
   ]
  },
  {
   "cell_type": "code",
   "execution_count": 95,
   "id": "2d50ebd4",
   "metadata": {
    "collapsed": false
   },
   "outputs": [
    {
     "name": "stdout",
     "output_type": "stream",
     "text": [
      "irt2.create - vid mapping: retained 12389\n"
     ]
    },
    {
     "name": "stdout",
     "output_type": "stream",
     "text": [
      "irt2.create - rid mapping: retained 5\n"
     ]
    },
    {
     "name": "stdout",
     "output_type": "stream",
     "text": [
      "irt2.create - mid mapping: retained 23894\n"
     ]
    },
    {
     "name": "stdout",
     "output_type": "stream",
     "text": [
      "irt2.create - open/validation: added 12080 head tasks from 11115 triples\n"
     ]
    },
    {
     "name": "stdout",
     "output_type": "stream",
     "text": [
      "irt2.create - open/validation: added 22168 tail tasks from 19549 triples\n"
     ]
    },
    {
     "name": "stdout",
     "output_type": "stream",
     "text": [
      "irt2.create - open/test: added 107603 head tasks from 69099 triples\n"
     ]
    },
    {
     "name": "stdout",
     "output_type": "stream",
     "text": [
      "irt2.create - open/test: added 199747 tail tasks from 44836 triples\n"
     ]
    },
    {
     "ename": "PermissionError",
     "evalue": "[Errno 13] Permission denied: '/data/dok/felix/dkg/irt2/data/irt2/cde/large/config.yaml'",
     "output_type": "error",
     "traceback": [
      "\u001b[0;31m---------------------------------------------------------------------------\u001b[0m",
      "\u001b[0;31mPermissionError\u001b[0m                           Traceback (most recent call last)",
      "Input \u001b[0;32mIn [95]\u001b[0m, in \u001b[0;36m<cell line: 4>\u001b[0;34m()\u001b[0m\n\u001b[1;32m      1\u001b[0m \u001b[38;5;28;01mfrom\u001b[39;00m \u001b[38;5;21;01mtabulate\u001b[39;00m \u001b[38;5;28;01mimport\u001b[39;00m tabulate\n\u001b[1;32m      2\u001b[0m \u001b[38;5;28;01mfrom\u001b[39;00m \u001b[38;5;21;01mirt2\u001b[39;00m\u001b[38;5;21;01m.\u001b[39;00m\u001b[38;5;21;01mcreate\u001b[39;00m \u001b[38;5;28;01mimport\u001b[39;00m create_dataset\n\u001b[0;32m----> 4\u001b[0m dataset, counts \u001b[38;5;241m=\u001b[39m \u001b[43mcreate_dataset\u001b[49m\u001b[43m(\u001b[49m\n\u001b[1;32m      5\u001b[0m \u001b[43m    \u001b[49m\u001b[43mout\u001b[49m\u001b[38;5;241;43m=\u001b[39;49m\u001b[43mirt2\u001b[49m\u001b[38;5;241;43m.\u001b[39;49m\u001b[43mENV\u001b[49m\u001b[38;5;241;43m.\u001b[39;49m\u001b[43mDIR\u001b[49m\u001b[38;5;241;43m.\u001b[39;49m\u001b[43mDATA\u001b[49m\u001b[43m \u001b[49m\u001b[38;5;241;43m/\u001b[39;49m\u001b[43m \u001b[49m\u001b[38;5;124;43m'\u001b[39;49m\u001b[38;5;124;43mirt2\u001b[39;49m\u001b[38;5;124;43m'\u001b[39;49m\u001b[43m \u001b[49m\u001b[38;5;241;43m/\u001b[39;49m\u001b[43m \u001b[49m\u001b[38;5;124;43m'\u001b[39;49m\u001b[38;5;124;43mcde\u001b[39;49m\u001b[38;5;124;43m'\u001b[39;49m\u001b[43m \u001b[49m\u001b[38;5;241;43m/\u001b[39;49m\u001b[43m \u001b[49m\u001b[38;5;124;43m'\u001b[39;49m\u001b[38;5;124;43mlarge\u001b[39;49m\u001b[38;5;124;43m'\u001b[39;49m\u001b[43m,\u001b[49m\n\u001b[1;32m      6\u001b[0m \u001b[43m    \u001b[49m\u001b[43mconfig\u001b[49m\u001b[38;5;241;43m=\u001b[39;49m\u001b[43mconfig\u001b[49m\u001b[43m,\u001b[49m\n\u001b[1;32m      7\u001b[0m \u001b[43m    \u001b[49m\u001b[43msplit\u001b[49m\u001b[38;5;241;43m=\u001b[39;49m\u001b[43msplit\u001b[49m\u001b[43m,\u001b[49m\n\u001b[1;32m      8\u001b[0m \u001b[43m    \u001b[49m\u001b[43moverwrite\u001b[49m\u001b[38;5;241;43m=\u001b[39;49m\u001b[38;5;28;43;01mTrue\u001b[39;49;00m\n\u001b[1;32m      9\u001b[0m \u001b[43m)\u001b[49m\n\u001b[1;32m     11\u001b[0m \u001b[38;5;28mprint\u001b[39m(\u001b[38;5;124mf\u001b[39m\u001b[38;5;124m\"\u001b[39m\u001b[38;5;130;01m\\n\u001b[39;00m\u001b[38;5;132;01m{\u001b[39;00mdataset\u001b[38;5;132;01m}\u001b[39;00m\u001b[38;5;130;01m\\n\u001b[39;00m\u001b[38;5;124m\"\u001b[39m)\n\u001b[1;32m     12\u001b[0m \u001b[38;5;28mprint\u001b[39m(tabulate(\u001b[38;5;28msorted\u001b[39m(counts\u001b[38;5;241m.\u001b[39mitems())))\n",
      "File \u001b[0;32m/data/dok/felix/dkg/irt2/irt2/create.py:1112\u001b[0m, in \u001b[0;36mcreate_dataset\u001b[0;34m(out, config, split, overwrite)\u001b[0m\n\u001b[1;32m   1109\u001b[0m out\u001b[38;5;241m.\u001b[39mmkdir(parents\u001b[38;5;241m=\u001b[39m\u001b[38;5;28;01mTrue\u001b[39;00m, exist_ok\u001b[38;5;241m=\u001b[39m\u001b[38;5;28;01mTrue\u001b[39;00m)\n\u001b[1;32m   1111\u001b[0m dataset \u001b[38;5;241m=\u001b[39m split2irt2(config, split)\n\u001b[0;32m-> 1112\u001b[0m counts \u001b[38;5;241m=\u001b[39m \u001b[43mwrite_dataset\u001b[49m\u001b[43m(\u001b[49m\u001b[43mout\u001b[49m\u001b[43m,\u001b[49m\u001b[43m \u001b[49m\u001b[43mdataset\u001b[49m\u001b[43m,\u001b[49m\u001b[43m \u001b[49m\u001b[43moverwrite\u001b[49m\u001b[43m)\u001b[49m\n\u001b[1;32m   1114\u001b[0m \u001b[38;5;28;01mreturn\u001b[39;00m dataset, counts\n",
      "File \u001b[0;32m/data/dok/felix/dkg/irt2/irt2/create.py:997\u001b[0m, in \u001b[0;36mwrite_dataset\u001b[0;34m(out, dataset, overwrite)\u001b[0m\n\u001b[1;32m    994\u001b[0m     \u001b[38;5;28;01mreturn\u001b[39;00m \u001b[38;5;28mstr\u001b[39m(target\u001b[38;5;241m.\u001b[39mrelative_to(pov))\n\u001b[1;32m    996\u001b[0m \u001b[38;5;66;03m# config\u001b[39;00m\n\u001b[0;32m--> 997\u001b[0m \u001b[38;5;28;01mwith\u001b[39;00m \u001b[43m(\u001b[49m\u001b[43mout\u001b[49m\u001b[43m \u001b[49m\u001b[38;5;241;43m/\u001b[39;49m\u001b[43m \u001b[49m\u001b[38;5;124;43m\"\u001b[39;49m\u001b[38;5;124;43mconfig.yaml\u001b[39;49m\u001b[38;5;124;43m\"\u001b[39;49m\u001b[43m)\u001b[49m\u001b[38;5;241;43m.\u001b[39;49m\u001b[43mopen\u001b[49m\u001b[43m(\u001b[49m\u001b[43mmode\u001b[49m\u001b[38;5;241;43m=\u001b[39;49m\u001b[38;5;124;43m\"\u001b[39;49m\u001b[38;5;124;43mw\u001b[39;49m\u001b[38;5;124;43m\"\u001b[39;49m\u001b[43m)\u001b[49m \u001b[38;5;28;01mas\u001b[39;00m fd:\n\u001b[1;32m    998\u001b[0m     yaml\u001b[38;5;241m.\u001b[39msafe_dump(dataset\u001b[38;5;241m.\u001b[39mconfig, fd)\n\u001b[1;32m   1000\u001b[0m tup2bytes \u001b[38;5;241m=\u001b[39m partial(encode, fn\u001b[38;5;241m=\u001b[39m\u001b[38;5;28mstr\u001b[39m, sep\u001b[38;5;241m=\u001b[39mconfig[\u001b[38;5;124m\"\u001b[39m\u001b[38;5;124mseparator\u001b[39m\u001b[38;5;124m\"\u001b[39m])\n",
      "File \u001b[0;32m/data/dok/felix/conda/envs/irt2/lib/python3.9/pathlib.py:1252\u001b[0m, in \u001b[0;36mPath.open\u001b[0;34m(self, mode, buffering, encoding, errors, newline)\u001b[0m\n\u001b[1;32m   1246\u001b[0m \u001b[38;5;28;01mdef\u001b[39;00m \u001b[38;5;21mopen\u001b[39m(\u001b[38;5;28mself\u001b[39m, mode\u001b[38;5;241m=\u001b[39m\u001b[38;5;124m'\u001b[39m\u001b[38;5;124mr\u001b[39m\u001b[38;5;124m'\u001b[39m, buffering\u001b[38;5;241m=\u001b[39m\u001b[38;5;241m-\u001b[39m\u001b[38;5;241m1\u001b[39m, encoding\u001b[38;5;241m=\u001b[39m\u001b[38;5;28;01mNone\u001b[39;00m,\n\u001b[1;32m   1247\u001b[0m          errors\u001b[38;5;241m=\u001b[39m\u001b[38;5;28;01mNone\u001b[39;00m, newline\u001b[38;5;241m=\u001b[39m\u001b[38;5;28;01mNone\u001b[39;00m):\n\u001b[1;32m   1248\u001b[0m     \u001b[38;5;124;03m\"\"\"\u001b[39;00m\n\u001b[1;32m   1249\u001b[0m \u001b[38;5;124;03m    Open the file pointed by this path and return a file object, as\u001b[39;00m\n\u001b[1;32m   1250\u001b[0m \u001b[38;5;124;03m    the built-in open() function does.\u001b[39;00m\n\u001b[1;32m   1251\u001b[0m \u001b[38;5;124;03m    \"\"\"\u001b[39;00m\n\u001b[0;32m-> 1252\u001b[0m     \u001b[38;5;28;01mreturn\u001b[39;00m \u001b[43mio\u001b[49m\u001b[38;5;241;43m.\u001b[39;49m\u001b[43mopen\u001b[49m\u001b[43m(\u001b[49m\u001b[38;5;28;43mself\u001b[39;49m\u001b[43m,\u001b[49m\u001b[43m \u001b[49m\u001b[43mmode\u001b[49m\u001b[43m,\u001b[49m\u001b[43m \u001b[49m\u001b[43mbuffering\u001b[49m\u001b[43m,\u001b[49m\u001b[43m \u001b[49m\u001b[43mencoding\u001b[49m\u001b[43m,\u001b[49m\u001b[43m \u001b[49m\u001b[43merrors\u001b[49m\u001b[43m,\u001b[49m\u001b[43m \u001b[49m\u001b[43mnewline\u001b[49m\u001b[43m,\u001b[49m\n\u001b[1;32m   1253\u001b[0m \u001b[43m                   \u001b[49m\u001b[43mopener\u001b[49m\u001b[38;5;241;43m=\u001b[39;49m\u001b[38;5;28;43mself\u001b[39;49m\u001b[38;5;241;43m.\u001b[39;49m\u001b[43m_opener\u001b[49m\u001b[43m)\u001b[49m\n",
      "File \u001b[0;32m/data/dok/felix/conda/envs/irt2/lib/python3.9/pathlib.py:1120\u001b[0m, in \u001b[0;36mPath._opener\u001b[0;34m(self, name, flags, mode)\u001b[0m\n\u001b[1;32m   1118\u001b[0m \u001b[38;5;28;01mdef\u001b[39;00m \u001b[38;5;21m_opener\u001b[39m(\u001b[38;5;28mself\u001b[39m, name, flags, mode\u001b[38;5;241m=\u001b[39m\u001b[38;5;241m0o666\u001b[39m):\n\u001b[1;32m   1119\u001b[0m     \u001b[38;5;66;03m# A stub for the opener argument to built-in open()\u001b[39;00m\n\u001b[0;32m-> 1120\u001b[0m     \u001b[38;5;28;01mreturn\u001b[39;00m \u001b[38;5;28;43mself\u001b[39;49m\u001b[38;5;241;43m.\u001b[39;49m\u001b[43m_accessor\u001b[49m\u001b[38;5;241;43m.\u001b[39;49m\u001b[43mopen\u001b[49m\u001b[43m(\u001b[49m\u001b[38;5;28;43mself\u001b[39;49m\u001b[43m,\u001b[49m\u001b[43m \u001b[49m\u001b[43mflags\u001b[49m\u001b[43m,\u001b[49m\u001b[43m \u001b[49m\u001b[43mmode\u001b[49m\u001b[43m)\u001b[49m\n",
      "\u001b[0;31mPermissionError\u001b[0m: [Errno 13] Permission denied: '/data/dok/felix/dkg/irt2/data/irt2/cde/large/config.yaml'"
     ]
    }
   ],
   "source": [
    "from tabulate import tabulate\n",
    "from irt2.create import create_dataset\n",
    "\n",
    "dataset, counts = create_dataset(\n",
    "    out=irt2.ENV.DIR.DATA / 'irt2' / 'cde' / 'tiny',\n",
    "    config=config,\n",
    "    split=split,\n",
    "    overwrite=True\n",
    ")\n",
    "\n",
    "print(f\"\\n{dataset}\\n\")\n",
    "print(tabulate(sorted(counts.items())))"
   ]
  }
 ],
 "metadata": {
  "kernelspec": {
   "argv": [
    "python",
    "-m",
    "ipykernel_launcher",
    "-f",
    "{connection_file}"
   ],
   "display_name": "Python 3 (ipykernel)",
   "env": null,
   "interrupt_mode": "signal",
   "language": "python",
   "metadata": {
    "debugger": true
   },
   "name": "python3"
  },
  "name": "create-split.ipynb"
 },
 "nbformat": 4,
 "nbformat_minor": 5
}
