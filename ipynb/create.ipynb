{
 "cells": [
  {
   "cell_type": "code",
   "execution_count": 1,
   "id": "f099c61b",
   "metadata": {
    "collapsed": false
   },
   "outputs": [],
   "source": [
    "%load_ext autoreload\n",
    "%autoreload 2"
   ]
  },
  {
   "cell_type": "code",
   "execution_count": 17,
   "id": "6c7601a1",
   "metadata": {
    "collapsed": false
   },
   "outputs": [
    {
     "name": "stdout",
     "output_type": "stream",
     "text": [
      "{'concept relations': ['P1412:languages spoken, written, or signed',\n",
      "                       'P1303:instrument',\n",
      "                       'P140:religion',\n",
      "                       'P27:country of citizenship',\n",
      "                       'P30:continent',\n",
      "                       'P509:cause of death',\n",
      "                       'P172:ethnic group',\n",
      "                       'P2348:time period',\n",
      "                       'P102:member of political party',\n",
      "                       'P106:occupation',\n",
      "                       'P495:country of origin',\n",
      "                       'P136:genre',\n",
      "                       'P641:sport',\n",
      "                       'P19:place of birth',\n",
      "                       'P69:educated at',\n",
      "                       'P463:member of',\n",
      "                       'P264:record label',\n",
      "                       'P20:place of death',\n",
      "                       'P1050:medical condition',\n",
      "                       'P101:field of work',\n",
      "                       'P2283:uses',\n",
      "                       'P135:movement',\n",
      "                       'P119:place of burial',\n",
      "                       'P108:employer',\n",
      "                       'P37:official language',\n",
      "                       'P840:narrative location',\n",
      "                       'P17:country'],\n",
      " 'exclude relations': ['P1056:product or material produced',\n",
      "                       'P3095:practiced by',\n",
      "                       'P54:member of sports team',\n",
      "                       'P113:airline hub',\n",
      "                       'P780:symptoms'],\n",
      " 'graph loader': 'codex',\n",
      " 'graph loader args': ['lib/codex/data/triples/codex-m/train.txt',\n",
      "                       'lib/codex/data/triples/codex-m/valid.txt',\n",
      "                       'lib/codex/data/triples/codex-m/test.txt'],\n",
      " 'graph loader kwargs': {'f_ent2id': 'lib/codex/data/entities/en/entities.json',\n",
      "                         'f_rel2id': 'lib/codex/data/relations/en/relations.json'},\n",
      " 'graph name': 'CodEx-M',\n",
      " 'include relations': [],\n",
      " 'name': 'IRT2/CDE-L',\n",
      " 'prune mentions': 5,\n",
      " 'seed': 5012022,\n",
      " 'separator': '|',\n",
      " 'source graph': 'Wikidata',\n",
      " 'source matches': 'data/source/matches/irt.cde/irt.cde.matches-full.csv',\n",
      " 'source name': 'CodEx',\n",
      " 'source pages': 'data/matches/src/matches-v6-codex.db',\n",
      " 'spacy model': 'en_core_web_lg',\n",
      " 'target mention split': 0.7}\n"
     ]
    }
   ],
   "source": [
    "import irt2\n",
    "from irt2.sampling import EID, Mention\n",
    "\n",
    "from pathlib import Path\n",
    "from pprint import pprint\n",
    "\n",
    "import yaml\n",
    "import numpy as np\n",
    "import matplotlib.pyplot as plt\n",
    "\n",
    "\n",
    "with (irt2.ENV.DIR.CONF / 'create' / 'cde-l.yaml').open(mode='r') as fd:\n",
    "    config = yaml.load(fd, Loader=yaml.FullLoader)\n",
    "\n",
    "pprint(config)"
   ]
  },
  {
   "cell_type": "code",
   "execution_count": null,
   "id": "a1d1c316",
   "metadata": {
    "collapsed": false
   },
   "outputs": [],
   "source": [
    "# you can skip this part if mentions are cached (see below)\n",
    "# GOTO: >>>\n",
    "\n",
    "from irt2 import sampling\n",
    "\n",
    "# create index of sampling.Match instances\n",
    "# an optional cache speeds up load time\n",
    "\n",
    "# this might take a while\n",
    "# irt.cde.matches-full requires around 24G RAM\n",
    "idx_matches = sampling.load_index_matches(\n",
    "    path=irt2.ENV.DIR.ROOT / config['source matches'],\n",
    "    invalidate_cache=False,\n",
    ")\n",
    "\n",
    "print('\\nmatch index:')\n",
    "print(f'  total: {len(idx_matches.flat)}')\n",
    "print(f'  pages: {len(idx_matches.keys(\"page\"))}')\n",
    "print(f'   eids: {len(idx_matches.keys(\"eid\"))}')"
   ]
  },
  {
   "cell_type": "code",
   "execution_count": null,
   "id": "a3d776f8",
   "metadata": {
    "collapsed": false
   },
   "outputs": [],
   "source": [
    "# plot how matches distribute over entities\n",
    "\n",
    "def plot_dist(\n",
    "    y,\n",
    "    title: str,\n",
    "    subtitle: str,\n",
    "    filenames: list[Path] = None,\n",
    "):\n",
    "    fig, ax = plt.subplots()\n",
    "    fig.suptitle(title)\n",
    "\n",
    "    ax.set_title(subtitle, color='#999')\n",
    "    ax.set_yscale('log')\n",
    "\n",
    "    ax.plot(np.arange(len(y)), y, color='#666')\n",
    "\n",
    "    if filenames:\n",
    "        for filename in filenames:\n",
    "            fig.savefig(filename)\n",
    "\n",
    "\n",
    "def plot_distribution_idx(index, **kwargs):\n",
    "\n",
    "    lens = {}\n",
    "    for eid in index.keys('eid'):\n",
    "        n = len(index.dis(eid=eid))\n",
    "        lens[eid] = n\n",
    "\n",
    "    lens = sorted(((n, eid) for eid, n in lens.items()), reverse=True)\n",
    "    y = np.array([n for n, _ in lens])\n",
    "\n",
    "    plot_dist(y=y, **kwargs)\n",
    "    return y\n",
    "\n",
    "\n",
    "cde_y = plot_distribution_idx(\n",
    "    index=idx_matches,\n",
    "    title=\"Matches Count\",\n",
    "    subtitle=\"{config['source graph']} ({config['source name']})\",\n",
    "    # filenames=[\n",
    "    #     ... / f'irt.cde.matches-distribution.{suff}'\n",
    "    #     for suff in ('png', 'svg')\n",
    "    # ],\n",
    ")"
   ]
  },
  {
   "cell_type": "code",
   "execution_count": null,
   "id": "c41713d1",
   "metadata": {
    "collapsed": false
   },
   "outputs": [],
   "source": [
    "print(f\"\\nmapping EIDS to mentions\")\n",
    "print(f\"pruning at threshold: {config['prune mentions']}\")\n",
    "\n",
    "mentions: dict[EID, dict[Mention, int]]\n",
    "norm2mentions: dict[str, str]\n",
    "\n",
    "norm2mentions, mentions = sampling.get_mentions(\n",
    "    index=idx_matches,\n",
    "    prune=config['prune mentions'],\n",
    ")\n",
    "\n",
    "print(f'retained {len(mentions)} mentions')"
   ]
  },
  {
   "cell_type": "code",
   "execution_count": null,
   "id": "6e159aa6",
   "metadata": {
    "collapsed": false
   },
   "outputs": [],
   "source": [
    "# some example mentions\n",
    "\n",
    "def print_mention_counts(mentions, eid):\n",
    "    for mention, count in sorted(mentions[eid].items(), key=lambda t: t[1], reverse=True):\n",
    "        print(f\"{count:5d} {mention}\" )\n",
    "    print()\n",
    "\n",
    "\n",
    "print_mention_counts(mentions=mentions, eid='Q11708')\n",
    "print_mention_counts(mentions=mentions, eid='Q49297')\n",
    "print_mention_counts(mentions=mentions, eid='Q21077')"
   ]
  },
  {
   "cell_type": "code",
   "execution_count": null,
   "id": "64a6964c",
   "metadata": {
    "collapsed": false
   },
   "outputs": [],
   "source": [
    "# entities with most mentions\n",
    "for eid, mdic in sorted(mentions.items(), key=lambda t: len(t[1]), reverse=True)[:20]:\n",
    "    print(len(mdic), eid, list(idx_matches.get(eid=eid))[0].entity)"
   ]
  },
  {
   "cell_type": "code",
   "execution_count": 3,
   "id": "acf7a578",
   "metadata": {
    "collapsed": false
   },
   "outputs": [
    {
     "name": "stdout",
     "output_type": "stream",
     "text": [
      "loading from cache\n"
     ]
    }
   ],
   "source": [
    "# >>>\n",
    "\n",
    "# idx_matches is no longer required\n",
    "# start here if mentions are cached\n",
    "\n",
    "import pickle\n",
    "from ktz.string import args_hash\n",
    "from typing import Any\n",
    "\n",
    "def cached_mentions(\n",
    "        source_matches,\n",
    "        prune_mentions,\n",
    "        data: Any = None,\n",
    "):\n",
    "    hash = args_hash(source_matches, prune_mentions)\n",
    "    cachefile = f\"create.ipynb.mentions.{hash}.pkl\"\n",
    "    cache = irt2.ENV.DIR.CACHE / cachefile\n",
    "\n",
    "    try:\n",
    "        data = norm2mentions, mentions  # raises NameError\n",
    "        print('saving mentions to cache')\n",
    "\n",
    "        with cache.open(mode='wb') as fd:\n",
    "            pickle.dump(data, fd)\n",
    "\n",
    "        return data\n",
    "\n",
    "    except NameError:\n",
    "        print('loading from cache')\n",
    "        with cache.open(mode='rb') as fd:\n",
    "            return pickle.load(fd)\n",
    "\n",
    "\n",
    "norm2mentions, mentions = cached_mentions(\n",
    "    source_matches=config['source matches'],\n",
    "    prune_mentions=config['prune mentions'],\n",
    ")"
   ]
  },
  {
   "cell_type": "code",
   "execution_count": 4,
   "id": "1ca54e9f",
   "metadata": {
    "collapsed": false
   },
   "outputs": [
    {
     "data": {
      "image/png": "[encoded data removed]",
      "text/plain": [
       "<Figure size 432x288 with 1 Axes>"
      ]
     },
     "metadata": {
      "needs_background": "light"
     },
     "output_type": "display_data"
    }
   ],
   "source": [
    "from collections import Counter\n",
    "\n",
    "\n",
    "def plot_mention_counts(mentions, title, subtitle, **kwargs):\n",
    "    counts = Counter()\n",
    "    for countdic in mentions.values():\n",
    "        counts[len(countdic)] += 1\n",
    "\n",
    "    y, x = zip(*sorted(counts.items()))\n",
    "\n",
    "    fig, ax = plt.subplots()\n",
    "    fig.suptitle(title)\n",
    "    ax.set_title(subtitle, color='#999')\n",
    "\n",
    "    ax.scatter(x, y, **kwargs)\n",
    "\n",
    "\n",
    "\n",
    "plot_mention_counts(\n",
    "    mentions=mentions,\n",
    "    title=\"Mentions per Entity\",\n",
    "    subtitle=config['source name'],\n",
    "    color='#333',\n",
    "    marker='.',\n",
    ")"
   ]
  },
  {
   "cell_type": "code",
   "execution_count": 5,
   "id": "a92c3663",
   "metadata": {
    "collapsed": false
   },
   "outputs": [
    {
     "name": "stdout",
     "output_type": "stream",
     "text": [
      "IRT2 GRAPH: CodEx-M\n",
      "  nodes: 17050\n",
      "  edges: 206205 (51 types)\n",
      "  degree:\n",
      "    mean 24.19\n",
      "    median 13\n",
      "\n"
     ]
    }
   ],
   "source": [
    "from irt2.graph import Graph\n",
    "from irt2.graph import load_graph\n",
    "\n",
    "\n",
    "graph = load_graph(\n",
    "    config['graph loader'],\n",
    "    config['graph name'],\n",
    "    *[irt2.ENV.DIR.ROOT / path for path in config['graph loader args']],\n",
    "    **{k: irt2.ENV.DIR.ROOT / path for k, path in config['graph loader kwargs'].items()},\n",
    ")\n",
    "\n",
    "\n",
    "print(graph.description)"
   ]
  },
  {
   "cell_type": "code",
   "execution_count": 6,
   "id": "34f3d4da",
   "metadata": {
    "collapsed": false
   },
   "outputs": [
    {
     "name": "stdout",
     "output_type": "stream",
     "text": [
      "targeting 70.0% closed-world mentions:\n",
      "\n"
     ]
    },
    {
     "name": "stdout",
     "output_type": "stream",
     "text": [
      "running self-check...\n",
      "self-check passed\n"
     ]
    },
    {
     "name": "stdout",
     "output_type": "stream",
     "text": [
      "                    mentions    vertices    triples\n",
      "----------------  ----------  ----------  ---------\n",
      "concept                   -1        2489      11370\n",
      "closed world           22867        9896     158892\n",
      "open world              9799        5124       1858\n",
      "open world heads          -1          -1      57007\n",
      "open world tails          -1          -1       4730\n",
      "retained 46 relations\n"
     ]
    }
   ],
   "source": [
    "# plan:\n",
    "#  - select all mentions of concept entities\n",
    "#  - shuffle and split remaining mentions randomly\n",
    "#  - assign vertices based on mention split to be either cw or ow\n",
    "#  - assign triples based on vertex split\n",
    "\n",
    "\n",
    "from irt2.sampling import split_mentions\n",
    "from tabulate import tabulate\n",
    "\n",
    "\n",
    "print(f\"targeting {config['target mention split'] * 100}% closed-world mentions:\\n\")\n",
    "\n",
    "split = split_mentions(\n",
    "    graph,\n",
    "    mentions=mentions,\n",
    "    seed=config['seed'],\n",
    "    ratio=config['target mention split'],\n",
    "    concept_rels=config['concept relations'],\n",
    "    include_rels=config['include relations'],\n",
    "    exclude_rels=config['exclude relations'],\n",
    ")\n",
    "\n",
    "\n",
    "print('running self-check...')\n",
    "split.check()\n",
    "print('self-check passed')\n",
    "\n",
    "\n",
    "print(tabulate((\n",
    "    (\n",
    "        'concept',\n",
    "        -1,\n",
    "        len(split.concept_vertices),\n",
    "        len(split.concept_triples),\n",
    "    ), (\n",
    "        'closed world',\n",
    "        len(split.closed_world_mentions),\n",
    "        len(split.closed_world_vertices),\n",
    "        len(split.closed_world_triples),\n",
    "    ), (\n",
    "        'open world',\n",
    "        len(split.open_world_mentions),\n",
    "        len(split.open_world_vertices),\n",
    "        len(split.open_world_triples),\n",
    "    ), (\n",
    "        'open world heads',\n",
    "        -1,\n",
    "        -1,\n",
    "        len(split.open_world_head_triples),\n",
    "    ),\n",
    "    (\n",
    "        'open world tails',\n",
    "        -1,\n",
    "        -1,\n",
    "        len(split.open_world_tail_triples),\n",
    "    ),\n",
    "), headers=('', 'mentions', 'vertices', 'triples')))\n",
    "\n",
    "print(f'retained {len(split.relations)} relations')\n"
   ]
  },
  {
   "cell_type": "code",
   "execution_count": 19,
   "id": "fc854c5e",
   "metadata": {
    "collapsed": false
   },
   "outputs": [
    {
     "name": "stdout",
     "output_type": "stream",
     "text": [
      "IRT2/CDE-L: 15020 vertices | 47 relations | 32666 mentions\n"
     ]
    }
   ],
   "source": [
    "from irt2.sampling import split2irt2\n",
    "\n",
    "dataset = split2irt2(config, split)\n",
    "print(str(dataset))"
   ]
  }
 ],
 "metadata": {
  "kernelspec": {
   "argv": [
    "python",
    "-m",
    "ipykernel_launcher",
    "-f",
    "{connection_file}"
   ],
   "display_name": "Python 3 (ipykernel)",
   "env": null,
   "interrupt_mode": "signal",
   "language": "python",
   "metadata": {
    "debugger": true
   },
   "name": "python3"
  },
  "name": "create.ipynb"
 },
 "nbformat": 4,
 "nbformat_minor": 5
}
