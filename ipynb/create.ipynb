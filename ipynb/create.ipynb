{
 "cells": [
  {
   "cell_type": "code",
   "execution_count": 1,
   "id": "2589ddf1",
   "metadata": {
    "collapsed": false
   },
   "outputs": [],
   "source": [
    "%load_ext autoreload\n",
    "%autoreload 2"
   ]
  },
  {
   "cell_type": "code",
   "execution_count": 60,
   "id": "fa9f8bc2",
   "metadata": {
    "collapsed": false
   },
   "outputs": [
    {
     "name": "stdout",
     "output_type": "stream",
     "text": [
      "{'concept relations': ['P1412:languages spoken, written, or signed',\n",
      "                       'P1303:instrument',\n",
      "                       'P140:religion',\n",
      "                       'P27:country of citizenship',\n",
      "                       'P30:continent',\n",
      "                       'P509:cause of death',\n",
      "                       'P172:ethnic group',\n",
      "                       'P2348:time period',\n",
      "                       'P102:member of political party',\n",
      "                       'P106:occupation',\n",
      "                       'P495:country of origin',\n",
      "                       'P136:genre',\n",
      "                       'P641:sport',\n",
      "                       'P19:place of birth',\n",
      "                       'P69:educated at',\n",
      "                       'P463:member of',\n",
      "                       'P264:record label',\n",
      "                       'P20:place of death',\n",
      "                       'P1050:medical condition',\n",
      "                       'P101:field of work',\n",
      "                       'P2283:uses',\n",
      "                       'P135:movement',\n",
      "                       'P119:place of burial',\n",
      "                       'P108:employer',\n",
      "                       'P37:official language',\n",
      "                       'P840:narrative location',\n",
      "                       'P17:country'],\n",
      " 'exclude relations': ['P1056:product or material produced',\n",
      "                       'P3095:practiced by',\n",
      "                       'P54:member of sports team',\n",
      "                       'P113:airline hub',\n",
      "                       'P780:symptoms'],\n",
      " 'graph loader': 'codex',\n",
      " 'graph loader args': ['lib/codex/data/triples/codex-m/train.txt',\n",
      "                       'lib/codex/data/triples/codex-m/valid.txt',\n",
      "                       'lib/codex/data/triples/codex-m/test.txt'],\n",
      " 'graph loader kwargs': {'f_ent2id': 'lib/codex/data/entities/en/entities.json',\n",
      "                         'f_rel2id': 'lib/codex/data/relations/en/relations.json'},\n",
      " 'graph name': 'CodEx-M',\n",
      " 'include relations': [],\n",
      " 'name': 'IRT2/CDE-L',\n",
      " 'prune mentions': 5,\n",
      " 'seed': 5012022,\n",
      " 'source graph': 'Wikidata',\n",
      " 'source matches': 'data/source/matches/irt.cde/irt.cde.matches-full.csv',\n",
      " 'source name': 'CodEx',\n",
      " 'target mention split': 0.5}\n"
     ]
    }
   ],
   "source": [
    "import irt2\n",
    "import yaml\n",
    "from pprint import pprint\n",
    "\n",
    "\n",
    "with (irt2.ENV.DIR.CONF / 'create' / 'cde-l.yaml').open(mode='r') as fd:\n",
    "    config = yaml.load(fd, Loader=yaml.FullLoader)\n",
    "\n",
    "pprint(config)"
   ]
  },
  {
   "cell_type": "code",
   "execution_count": 3,
   "id": "731edb18",
   "metadata": {
    "collapsed": false
   },
   "outputs": [
    {
     "name": "stdout",
     "output_type": "stream",
     "text": [
      "\n",
      "match index:\n",
      "  total: 33546227\n",
      "  pages: 4312750\n",
      "   eids: 57614\n"
     ]
    }
   ],
   "source": [
    "from irt2 import sampling\n",
    "\n",
    "# create index of sampling.Match instances\n",
    "# an optional cache speeds up load time\n",
    "\n",
    "# this might take a while\n",
    "# irt.cde.matches-full requires around 24G RAM\n",
    "idx_matches = sampling.load_index_matches(\n",
    "    path=irt2.ENV.DIR.ROOT / config['source matches'],\n",
    "    invalidate_cache=False,\n",
    ")\n",
    "\n",
    "print('\\nmatch index:')\n",
    "print(f'  total: {len(idx_matches.flat)}')\n",
    "print(f'  pages: {len(idx_matches.keys(\"page\"))}')\n",
    "print(f'   eids: {len(idx_matches.keys(\"eid\"))}')"
   ]
  },
  {
   "cell_type": "code",
   "execution_count": 4,
   "id": "2f022dc0",
   "metadata": {
    "collapsed": false
   },
   "outputs": [
    {
     "data": {
      "image/png": "[encoded data removed]",
      "text/plain": [
       "<Figure size 432x288 with 1 Axes>"
      ]
     },
     "metadata": {
      "needs_background": "light"
     },
     "output_type": "display_data"
    }
   ],
   "source": [
    "# plot how matches distribute over entities\n",
    "\n",
    "import numpy as np\n",
    "import matplotlib.pyplot as plt\n",
    "\n",
    "from pathlib import Path\n",
    "\n",
    "from irt2.sampling import EID, Mention\n",
    "\n",
    "\n",
    "def plot_dist(\n",
    "    y,\n",
    "    title: str,\n",
    "    subtitle: str,\n",
    "    filenames: list[Path] = None,\n",
    "):\n",
    "    fig, ax = plt.subplots()\n",
    "    fig.suptitle(title)\n",
    "\n",
    "    ax.set_title(subtitle, color='#999')\n",
    "    ax.set_yscale('log')\n",
    "\n",
    "    ax.plot(np.arange(len(y)), y, color='#666')\n",
    "\n",
    "    if filenames:\n",
    "        for filename in filenames:\n",
    "            fig.savefig(filename)\n",
    "\n",
    "\n",
    "def plot_distribution_idx(index, **kwargs):\n",
    "\n",
    "    lens = {}\n",
    "    for eid in index.keys('eid'):\n",
    "        n = len(index.dis(eid=eid))\n",
    "        lens[eid] = n\n",
    "\n",
    "    lens = sorted(((n, eid) for eid, n in lens.items()), reverse=True)\n",
    "    y = np.array([n for n, _ in lens])\n",
    "\n",
    "    plot_dist(y=y, **kwargs)\n",
    "    return y\n",
    "\n",
    "\n",
    "cde_y = plot_distribution_idx(\n",
    "    index=idx_matches,\n",
    "    title=\"Matches Count\",\n",
    "    subtitle=\"{config['source graph']} ({config['source name']})\",\n",
    "    # filenames=[\n",
    "    #     ... / f'irt.cde.matches-distribution.{suff}'\n",
    "    #     for suff in ('png', 'svg')\n",
    "    # ],\n",
    ")"
   ]
  },
  {
   "cell_type": "code",
   "execution_count": 5,
   "id": "d4b42f1f",
   "metadata": {
    "collapsed": false
   },
   "outputs": [
    {
     "name": "stdout",
     "output_type": "stream",
     "text": [
      "\n",
      "mapping EIDS to mentions\n",
      "pruning at threshold: 5\n"
     ]
    },
    {
     "name": "stdout",
     "output_type": "stream",
     "text": [
      "retained 57614 mentions\n"
     ]
    }
   ],
   "source": [
    "print(f\"\\nmapping EIDS to mentions\")\n",
    "print(f\"pruning at threshold: {config['prune mentions']}\")\n",
    "\n",
    "mentions: dict[EID, dict[Mention, int]]\n",
    "norm2mentions: dict[str, str]\n",
    "\n",
    "norm2mentions, mentions = sampling.get_mentions(\n",
    "    index=idx_matches,\n",
    "    prune=config['prune mentions'],\n",
    ")\n",
    "\n",
    "print(f'retained {len(mentions)} mentions')"
   ]
  },
  {
   "cell_type": "code",
   "execution_count": 6,
   "id": "c671b5bc",
   "metadata": {
    "collapsed": false
   },
   "outputs": [
    {
     "name": "stdout",
     "output_type": "stream",
     "text": [
      "10036 southeast asia\n",
      "  165 southeast\n",
      "  125 south east asia\n",
      "   32 southeast asian\n",
      "   19 south east asian\n",
      "   14 southeast asian countries\n",
      "   13 southeastern asia\n",
      "    9 southeast asian region\n",
      "    8 sea\n",
      "    5 south east\n",
      "    5 southeastern\n",
      "\n",
      " 9807 native american\n",
      " 5211 native americans\n",
      " 1640 indian\n",
      " 1272 indians\n",
      " 1106 american indian\n",
      "  620 native\n",
      "  424 american indians\n",
      "  114 native americans in the united states\n",
      "  106 american\n",
      "   49 natives\n",
      "   48 indigenous\n",
      "   36 native american tribes\n",
      "   34 indigenous peoples\n",
      "   30 indian tribes\n",
      "   24 united states\n",
      "   22 tribe\n",
      "   20 indigenous people\n",
      "   18 native peoples\n",
      "   16 tribal\n",
      "   14 native american tribe\n",
      "   12 american indian or alaska native\n",
      "   10 native american people\n",
      "   10 native american peoples\n",
      "    9 indian affairs\n",
      "    9 aboriginal american\n",
      "    9 native american indians\n",
      "    8 american indian and alaska native\n",
      "    7 native tribes\n",
      "    7 native indian\n",
      "    7 tribes\n",
      "    7 native indians\n",
      "    6 native american indian\n",
      "    6 first nations\n",
      "    6 bands\n",
      "    5 indigenous americans\n",
      "    5 aboriginal\n",
      "    5 native people\n",
      "\n",
      " 1209 warner music group\n",
      "  544 wea\n",
      "  453 warner\n",
      "  336 warner music\n",
      "  141 warner music japan\n",
      "   74 warner music taiwan\n",
      "   49 wea records\n",
      "   43 warner music philippines\n",
      "   40 warner music finland\n",
      "   37 warner bros\n",
      "   30 wea international\n",
      "   27 warner music uk\n",
      "   27 warner music sweden\n",
      "   18 warner pioneer\n",
      "   14 wea latina\n",
      "   13 wmg\n",
      "   12 warner classics\n",
      "   11 warner bros records\n",
      "   10 warner music korea\n",
      "   10 warner brothers\n",
      "   10 warner music nashville\n",
      "   10 wea japan\n",
      "    9 warner music france\n",
      "    9 warner music mexico\n",
      "    7 warner music spain\n",
      "    7 warner music malaysia\n",
      "    6 wb music corp\n",
      "    5 sister label\n",
      "    5 warner music group's arts music\n",
      "    5 warner music russia\n",
      "    5 warner music norway\n",
      "    5 arts music\n",
      "    5 warner music germany\n",
      "    5 warner music australia\n",
      "    5 warner pioneer corporation\n",
      "    5 warner's\n",
      "    5 wea australia\n",
      "\n"
     ]
    }
   ],
   "source": [
    "# some example mentions\n",
    "\n",
    "def print_mention_counts(mentions, eid):\n",
    "    for mention, count in sorted(mentions[eid].items(), key=lambda t: t[1], reverse=True):\n",
    "        print(f\"{count:5d} {mention}\" )\n",
    "    print()\n",
    "\n",
    "\n",
    "print_mention_counts(mentions=mentions, eid='Q11708')\n",
    "print_mention_counts(mentions=mentions, eid='Q49297')\n",
    "print_mention_counts(mentions=mentions, eid='Q21077')"
   ]
  },
  {
   "cell_type": "code",
   "execution_count": 7,
   "id": "a675abd0",
   "metadata": {
    "collapsed": false
   },
   "outputs": [
    {
     "name": "stdout",
     "output_type": "stream",
     "text": [
      "59 Q7318 Nazi Germany\n",
      "55 Q30 United States of America\n",
      "47 Q129286 British Raj\n",
      "45 Q36747 Indigenous peoples of America\n",
      "42 Q8680 British Empire\n",
      "39 Q12560 Ottoman Empire\n",
      "39 Q2415901 Allied-occupied Germany\n",
      "38 Q193714 Mandatory Palestine\n",
      "38 Q131359 professional wrestling\n",
      "37 Q49297 Indigenous peoples of the United States\n",
      "37 Q38903 Universal Music Group\n",
      "37 Q21077 Warner Music Group\n",
      "36 Q9592 Catholic Church\n",
      "36 Q2277 Roman Empire\n",
      "36 Q12544 Byzantine Empire\n",
      "35 Q35032 Eastern Orthodox Church\n"
     ]
    },
    {
     "name": "stdout",
     "output_type": "stream",
     "text": [
      "33 Q2736 association football\n"
     ]
    },
    {
     "name": "stdout",
     "output_type": "stream",
     "text": [
      "33 Q145 United Kingdom\n",
      "31 Q34266 Russian Empire\n",
      "30 Q15180 Soviet Union\n"
     ]
    }
   ],
   "source": [
    "# entities with most mentions\n",
    "for eid, mdic in sorted(mentions.items(), key=lambda t: len(t[1]), reverse=True)[:20]:\n",
    "    print(len(mdic), eid, list(idx_matches.get(eid=eid))[0].entity)"
   ]
  },
  {
   "cell_type": "code",
   "execution_count": 8,
   "id": "054ac2b3",
   "metadata": {
    "collapsed": false
   },
   "outputs": [
    {
     "data": {
      "image/png": "[encoded data removed]",
      "text/plain": [
       "<Figure size 432x288 with 1 Axes>"
      ]
     },
     "metadata": {
      "needs_background": "light"
     },
     "output_type": "display_data"
    }
   ],
   "source": [
    "from collections import Counter\n",
    "\n",
    "\n",
    "def plot_mention_counts(mentions, title, subtitle, **kwargs):\n",
    "    counts = Counter()\n",
    "    for countdic in mentions.values():\n",
    "        counts[len(countdic)] += 1\n",
    "\n",
    "    y, x = zip(*sorted(counts.items()))\n",
    "\n",
    "    fig, ax = plt.subplots()\n",
    "    fig.suptitle(title)\n",
    "    ax.set_title(subtitle, color='#999')\n",
    "\n",
    "    ax.scatter(x, y, **kwargs)\n",
    "\n",
    "\n",
    "\n",
    "plot_mention_counts(\n",
    "    mentions=mentions,\n",
    "    title=\"Mentions per Entity\",\n",
    "    subtitle=config['source name'],\n",
    "    color='#333',\n",
    "    marker='.',\n",
    ")"
   ]
  },
  {
   "cell_type": "code",
   "execution_count": 9,
   "id": "5bb21c94",
   "metadata": {
    "collapsed": false
   },
   "outputs": [
    {
     "name": "stdout",
     "output_type": "stream",
     "text": [
      "IRT2 GRAPH: CodEx-M\n",
      "  nodes: 17050\n",
      "  edges: 206205 (51 types)\n",
      "  degree:\n",
      "    mean 24.19\n",
      "    median 13\n",
      "\n"
     ]
    }
   ],
   "source": [
    "from irt2.graph import Graph\n",
    "from irt2.graph import load_graph\n",
    "\n",
    "\n",
    "graph = load_graph(\n",
    "    config['graph loader'],\n",
    "    config['graph name'],\n",
    "    *[irt2.ENV.DIR.ROOT / path for path in config['graph loader args']],\n",
    "    **{k: irt2.ENV.DIR.ROOT / path for k, path in config['graph loader kwargs'].items()},\n",
    ")\n",
    "\n",
    "\n",
    "print(graph.description)"
   ]
  },
  {
   "cell_type": "code",
   "execution_count": 65,
   "id": "c77d756f",
   "metadata": {
    "collapsed": false
   },
   "outputs": [
    {
     "name": "stdout",
     "output_type": "stream",
     "text": [
      "loaded 51 relations\n",
      "after applying filter: 46 relations remain\n",
      "selected 2489 concept entities from 27 relations\n",
      "retaining closed world mentions\n",
      "  set aside 12779/32666 mentions as concepts\n",
      "  removed 877/17050 vertices without mentions\n",
      "retaining open world mentions\n",
      "  closed-world: 16333 mentions\n",
      "  open-world: 16333 mentions\n"
     ]
    }
   ],
   "source": [
    "# plan:\n",
    "#  - select all mentions of concept entities\n",
    "#  - shuffle and split remaining mentions randomly\n",
    "#  - assign vertices based on mention split to be either cw or ow\n",
    "#  - assign triples based on vertex split\n",
    "\n",
    "\n",
    "import random\n",
    "from irt2.types import VID\n",
    "from irt2.graph import Relation\n",
    "from ktz.collections import unbucket\n",
    "\n",
    "\n",
    "# select all concept entities\n",
    "def split_mentions(\n",
    "        graph: Graph,\n",
    "        mentions: dict[EID, dict[Mention]],\n",
    "        seed: int,\n",
    "        ratio: float,\n",
    "        concept_rels: list[str], # manually selected concept relations\n",
    "        include_rels: list[str], # upstream names\n",
    "        exclude_rels: list[str], # upstream names\n",
    "):\n",
    "    assert not include_rels and exclude_rels, \"mutex!\"\n",
    "\n",
    "    relations = Relation.from_graph(graph)\n",
    "    print(f'loaded {len(relations)} relations')\n",
    "\n",
    "    # apply include/exclude\n",
    "\n",
    "    includes = set(include_rels)\n",
    "    assert len(includes) == len(include_rels)\n",
    "\n",
    "    excludes = set(exclude_rels)\n",
    "    assert len(excludes) == len(exclude_rels)\n",
    "\n",
    "    if includes:\n",
    "        relations = [rel for rel in relations if rel.name in includes]\n",
    "\n",
    "    elif excludes:\n",
    "        relations = [rel for rel in relations if rel.name not in excludes]\n",
    "\n",
    "    print(f'after applying filter: {len(relations)} relations remain')\n",
    "    assert relations\n",
    "\n",
    "    # set aside concept entities\n",
    "\n",
    "    concept_rels = set(concept_rels)\n",
    "    concept_entities = set.union(*[\n",
    "        rel.concepts for rel in relations if rel.name in concept_rels\n",
    "    ])\n",
    "\n",
    "    print(f'selected {len(concept_entities)} concept entities from {len(concept_rels)} relations')\n",
    "    assert concept_entities\n",
    "\n",
    "    # split mentions\n",
    "\n",
    "    Flat = set[tuple[VID, Mention]]\n",
    "\n",
    "    closed: Flat = set()\n",
    "    open: Flat = set()\n",
    "    candidates: Flat = set()\n",
    "    removed: dict[VID, EID] = set()\n",
    "\n",
    "    print('retaining closed world mentions')\n",
    "    for vid, eid in graph.source.ents.items():\n",
    "\n",
    "        # map to upstream\n",
    "        # Q108946:A Few Good Men -> Q108946\n",
    "        link = eid.split(':')[0]\n",
    "        if link not in mentions:\n",
    "            removed.add((vid, eid))\n",
    "            continue\n",
    "\n",
    "        # create a flat list to be split later\n",
    "        flat = {(vid, mention) for mention in mentions[link].keys()}\n",
    "        if vid in concept_entities:\n",
    "            closed |= flat\n",
    "        else:\n",
    "            candidates |= flat\n",
    "\n",
    "    print(f'  set aside {len(closed)}/{len(closed) + len(candidates)} mentions as concepts')\n",
    "    print(f'  removed {len(removed)}/{len(graph.source.ents)} vertices without mentions')\n",
    "\n",
    "    print('retaining open world mentions')\n",
    "\n",
    "    random.seed(seed)\n",
    "    candidates = sorted(candidates)\n",
    "    random.shuffle(candidates)\n",
    "\n",
    "    total = len(closed) + len(candidates)\n",
    "    split = int(ratio * total)\n",
    "\n",
    "    assert split > len(closed)\n",
    "    open = set(candidates[:split])\n",
    "    closed |= set(candidates[split:])\n",
    "\n",
    "    assert not open & closed\n",
    "\n",
    "    print(f'  closed-world: {len(closed)} mentions')\n",
    "    print(f'  open-world: {len(open)} mentions')\n",
    "\n",
    "\n",
    "split_mentions(\n",
    "    graph,\n",
    "    mentions=mentions,\n",
    "    seed=config['seed'],\n",
    "    ratio=config['target mention split'],\n",
    "    concept_rels=config['concept relations'],\n",
    "    include_rels=config['include relations'],\n",
    "    exclude_rels=config['exclude relations'],\n",
    ")"
   ]
  },
  {
   "cell_type": "code",
   "execution_count": 29,
   "id": "bfd8dd5c",
   "metadata": {
    "collapsed": false
   },
   "outputs": [],
   "source": [
    "# distribute vids between open and closed world based on \n",
    "# eid2vid = {v.split(':')[0]: k for k, v in g.source.ents.items()}"
   ]
  }
 ],
 "metadata": {
  "kernelspec": {
   "argv": [
    "python",
    "-m",
    "ipykernel_launcher",
    "-f",
    "{connection_file}"
   ],
   "display_name": "Python 3 (ipykernel)",
   "env": null,
   "interrupt_mode": "signal",
   "language": "python",
   "metadata": {
    "debugger": true
   },
   "name": "python3"
  },
  "name": "create.ipynb"
 },
 "nbformat": 4,
 "nbformat_minor": 5
}
