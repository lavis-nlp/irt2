{
 "cells": [
  {
   "cell_type": "code",
   "execution_count": null,
   "id": "29c573f9",
   "metadata": {
    "collapsed": false
   },
   "outputs": [],
   "source": [
    "# different statistics and descriptive plots regarding irt2 metrics"
   ]
  },
  {
   "cell_type": "code",
   "execution_count": 1,
   "id": "2f972cce",
   "metadata": {
    "collapsed": false
   },
   "outputs": [],
   "source": [
    "%load_ext autoreload\n",
    "%autoreload 2"
   ]
  },
  {
   "cell_type": "code",
   "execution_count": 2,
   "id": "8aff903e",
   "metadata": {
    "collapsed": false
   },
   "outputs": [
    {
     "name": "stdout",
     "output_type": "stream",
     "text": [
      "\n",
      "loaded tiny:\n",
      "IRT graph: [IRT2/CDE-XS] (12389 entities)\n",
      "got ratios for 5 relations\n",
      "\n",
      "loaded small:\n",
      "IRT graph: [IRT2/CDE-S] (14207 entities)\n",
      "got ratios for 13 relations\n",
      "\n",
      "loaded medium:\n"
     ]
    },
    {
     "name": "stdout",
     "output_type": "stream",
     "text": [
      "IRT graph: [IRT2/CDE-M] (15020 entities)\n",
      "got ratios for 46 relations\n",
      "\n",
      "loaded large:\n"
     ]
    },
    {
     "name": "stdout",
     "output_type": "stream",
     "text": [
      "IRT graph: [IRT2/CDE-L] (15020 entities)\n",
      "got ratios for 46 relations\n"
     ]
    }
   ],
   "source": [
    "import irt2\n",
    "from irt2.dataset import IRT2\n",
    "\n",
    "def load_datasets():\n",
    "    root = irt2.ENV.DIR.DATA / 'irt2' / 'cde'\n",
    "    return {\n",
    "        path.name: IRT2.from_dir(path=path) for path in (\n",
    "            root / 'tiny',\n",
    "            root / 'small',\n",
    "            root / 'medium',\n",
    "            root / 'large',\n",
    "        )\n",
    "    }\n",
    "\n",
    "datasets = load_datasets()\n",
    "for name, dataset in datasets.items():\n",
    "    print(f\"\\nloaded {name}:\")\n",
    "    print(f\"{dataset.graph}\")\n",
    "    print(f\"got ratios for {len(dataset.relations)} relations\")\n"
   ]
  },
  {
   "cell_type": "code",
   "execution_count": 5,
   "id": "d221c139",
   "metadata": {
    "collapsed": false
   },
   "outputs": [
    {
     "name": "stdout",
     "output_type": "stream",
     "text": [
      "IRT graph: [CodEx-M] (17050 entities)\n"
     ]
    }
   ],
   "source": [
    "# load source graph\n",
    "\n",
    "import irt2\n",
    "from irt2.graph import Graph\n",
    "from irt2.graph import load_graph\n",
    "\n",
    "\n",
    "def load_source_graph(config):\n",
    "    return load_graph(\n",
    "        config['graph loader'],\n",
    "        config['graph name'],\n",
    "        *[irt2.ENV.DIR.ROOT / path for path in config['graph loader args']],\n",
    "        **{k: irt2.ENV.DIR.ROOT / path for k, path in config['graph loader kwargs'].items()},\n",
    "    )\n",
    "\n",
    "\n",
    "source_graph = load_source_graph(config=datasets['large'].config['create'])\n",
    "print(str(source_graph))"
   ]
  },
  {
   "cell_type": "code",
   "execution_count": 23,
   "id": "17d3ca8e",
   "metadata": {
    "collapsed": false
   },
   "outputs": [
    {
     "ename": "AssertionError",
     "evalue": "P50:author (rid=3) has no triples assigned",
     "output_type": "error",
     "traceback": [
      "\u001b[0;31m---------------------------------------------------------------------------\u001b[0m",
      "\u001b[0;31mAssertionError\u001b[0m                            Traceback (most recent call last)",
      "Input \u001b[0;32mIn [23]\u001b[0m, in \u001b[0;36m<cell line: 40>\u001b[0;34m()\u001b[0m\n\u001b[1;32m     36\u001b[0m     axes[\u001b[38;5;241m0\u001b[39m]\u001b[38;5;241m.\u001b[39mbar(x\u001b[38;5;241m=\u001b[39msplits, height\u001b[38;5;241m=\u001b[39mtails, bottom\u001b[38;5;241m=\u001b[39mheads)\n\u001b[1;32m     39\u001b[0m \u001b[38;5;66;03m# relations = {'original': Relation.from_graph(g=source_graph)}\u001b[39;00m\n\u001b[0;32m---> 40\u001b[0m relations \u001b[38;5;241m|\u001b[39m\u001b[38;5;241m=\u001b[39m {name: dataset\u001b[38;5;241m.\u001b[39mratios \u001b[38;5;28;01mfor\u001b[39;00m name, dataset \u001b[38;5;129;01min\u001b[39;00m datasets\u001b[38;5;241m.\u001b[39mitems()}\n\u001b[1;32m     42\u001b[0m plot_ratios(relations\u001b[38;5;241m=\u001b[39mrelations)\n",
      "Input \u001b[0;32mIn [23]\u001b[0m, in \u001b[0;36m<dictcomp>\u001b[0;34m(.0)\u001b[0m\n\u001b[1;32m     36\u001b[0m     axes[\u001b[38;5;241m0\u001b[39m]\u001b[38;5;241m.\u001b[39mbar(x\u001b[38;5;241m=\u001b[39msplits, height\u001b[38;5;241m=\u001b[39mtails, bottom\u001b[38;5;241m=\u001b[39mheads)\n\u001b[1;32m     39\u001b[0m \u001b[38;5;66;03m# relations = {'original': Relation.from_graph(g=source_graph)}\u001b[39;00m\n\u001b[0;32m---> 40\u001b[0m relations \u001b[38;5;241m|\u001b[39m\u001b[38;5;241m=\u001b[39m {name: \u001b[43mdataset\u001b[49m\u001b[38;5;241;43m.\u001b[39;49m\u001b[43mratios\u001b[49m \u001b[38;5;28;01mfor\u001b[39;00m name, dataset \u001b[38;5;129;01min\u001b[39;00m datasets\u001b[38;5;241m.\u001b[39mitems()}\n\u001b[1;32m     42\u001b[0m plot_ratios(relations\u001b[38;5;241m=\u001b[39mrelations)\n",
      "File \u001b[0;32m~/Complex/cnd/envs/irt2/lib/python3.9/functools.py:969\u001b[0m, in \u001b[0;36mcached_property.__get__\u001b[0;34m(self, instance, owner)\u001b[0m\n\u001b[1;32m    967\u001b[0m val \u001b[38;5;241m=\u001b[39m cache\u001b[38;5;241m.\u001b[39mget(\u001b[38;5;28mself\u001b[39m\u001b[38;5;241m.\u001b[39mattrname, _NOT_FOUND)\n\u001b[1;32m    968\u001b[0m \u001b[38;5;28;01mif\u001b[39;00m val \u001b[38;5;129;01mis\u001b[39;00m _NOT_FOUND:\n\u001b[0;32m--> 969\u001b[0m     val \u001b[38;5;241m=\u001b[39m \u001b[38;5;28;43mself\u001b[39;49m\u001b[38;5;241;43m.\u001b[39;49m\u001b[43mfunc\u001b[49m\u001b[43m(\u001b[49m\u001b[43minstance\u001b[49m\u001b[43m)\u001b[49m\n\u001b[1;32m    970\u001b[0m     \u001b[38;5;28;01mtry\u001b[39;00m:\n\u001b[1;32m    971\u001b[0m         cache[\u001b[38;5;28mself\u001b[39m\u001b[38;5;241m.\u001b[39mattrname] \u001b[38;5;241m=\u001b[39m val\n",
      "File \u001b[0;32m~/Complex/dkg/irt2/irt2/dataset.py:318\u001b[0m, in \u001b[0;36mIRT2.ratios\u001b[0;34m(self)\u001b[0m\n\u001b[1;32m    307\u001b[0m \u001b[38;5;129m@cached_property\u001b[39m\n\u001b[1;32m    308\u001b[0m \u001b[38;5;28;01mdef\u001b[39;00m \u001b[38;5;21mratios\u001b[39m(\u001b[38;5;28mself\u001b[39m) \u001b[38;5;241m-\u001b[39m\u001b[38;5;241m>\u001b[39m \u001b[38;5;28mlist\u001b[39m[Relation]:\n\u001b[1;32m    309\u001b[0m     \u001b[38;5;124;03m\"\"\"\u001b[39;00m\n\u001b[1;32m    310\u001b[0m \u001b[38;5;124;03m    Create a list of relations sorted by ratio.\u001b[39;00m\n\u001b[1;32m    311\u001b[0m \n\u001b[0;32m   (...)\u001b[0m\n\u001b[1;32m    316\u001b[0m \n\u001b[1;32m    317\u001b[0m \u001b[38;5;124;03m    \"\"\"\u001b[39;00m\n\u001b[0;32m--> 318\u001b[0m     \u001b[38;5;28;01mreturn\u001b[39;00m \u001b[43mRelation\u001b[49m\u001b[38;5;241;43m.\u001b[39;49m\u001b[43mfrom_graph\u001b[49m\u001b[43m(\u001b[49m\u001b[38;5;28;43mself\u001b[39;49m\u001b[38;5;241;43m.\u001b[39;49m\u001b[43mgraph\u001b[49m\u001b[43m)\u001b[49m\n",
      "File \u001b[0;32m~/Complex/dkg/irt2/irt2/graph.py:492\u001b[0m, in \u001b[0;36mRelation.from_graph\u001b[0;34m(Relation, g)\u001b[0m\n\u001b[1;32m    490\u001b[0m \u001b[38;5;28;01mfor\u001b[39;00m rid, relname \u001b[38;5;129;01min\u001b[39;00m g\u001b[38;5;241m.\u001b[39msource\u001b[38;5;241m.\u001b[39mrels\u001b[38;5;241m.\u001b[39mitems():\n\u001b[1;32m    491\u001b[0m     triples \u001b[38;5;241m=\u001b[39m g\u001b[38;5;241m.\u001b[39mfind(edges\u001b[38;5;241m=\u001b[39m{rid})\n\u001b[0;32m--> 492\u001b[0m     \u001b[38;5;28;01massert\u001b[39;00m triples, \u001b[38;5;124mf\u001b[39m\u001b[38;5;124m\"\u001b[39m\u001b[38;5;132;01m{\u001b[39;00mrelname\u001b[38;5;132;01m}\u001b[39;00m\u001b[38;5;124m (\u001b[39m\u001b[38;5;132;01m{\u001b[39;00mrid\u001b[38;5;132;01m=}\u001b[39;00m\u001b[38;5;124m) has no triples assigned\u001b[39m\u001b[38;5;124m\"\u001b[39m\n\u001b[1;32m    494\u001b[0m     heads, tails \u001b[38;5;241m=\u001b[39m \u001b[38;5;28mmap\u001b[39m(\u001b[38;5;28mset\u001b[39m, \u001b[38;5;28mzip\u001b[39m(\u001b[38;5;241m*\u001b[39m((h, t) \u001b[38;5;28;01mfor\u001b[39;00m h, t, _ \u001b[38;5;129;01min\u001b[39;00m triples)))\n\u001b[1;32m    496\u001b[0m     lens \u001b[38;5;241m=\u001b[39m \u001b[38;5;28mlen\u001b[39m(heads), \u001b[38;5;28mlen\u001b[39m(tails)\n",
      "\u001b[0;31mAssertionError\u001b[0m: P50:author (rid=3) has no triples assigned"
     ]
    }
   ],
   "source": [
    "# We want to check whether the greedy approach to subsampling actually yields\n",
    "# comparable ratios between relations or if some larger bias can be spotted.\n",
    "#\n",
    "# (Think about having a relation \"fifty\" where 50% of all vertices take part and\n",
    "# another \"hunny\" where all vertices are included. In the most extreme case, if\n",
    "# by chance the greedy approach saturates \"hunny\" without ever encountering any\n",
    "# \"fifty\" vertices, no vertex for \"fifty\" will be included in the closed world)\n",
    "\n",
    "from irt2.graph import Relation\n",
    "import matplotlib.pyplot as plt\n",
    "\n",
    "\n",
    "# len(datasets['tiny'].ratios[0].heads)\n",
    "\n",
    "def plot_ratios(relations):\n",
    "\n",
    "    # prepare data\n",
    "\n",
    "    \n",
    "\n",
    "\n",
    "    # plot\n",
    "\n",
    "    n = len(datasets)\n",
    "\n",
    "    fig, axes = plt.subplots(1, n)\n",
    "    fig.set_figwidth(n * 4)\n",
    "\n",
    "    axes[0].set_title('foo')\n",
    "\n",
    "    splits = 'a', 'b', 'c', 'd'\n",
    "    heads = 10, 20, 30, 40\n",
    "    tails = 3, 2, 5, 100\n",
    "\n",
    "    axes[0].bar(x=splits, height=heads)\n",
    "    axes[0].bar(x=splits, height=tails, bottom=heads)\n",
    "\n",
    "\n",
    "# relations = {'original': Relation.from_graph(g=source_graph)}\n",
    "relations |= {name: dataset.ratios for name, dataset in datasets.items()}\n",
    "\n",
    "plot_ratios(relations=relations)\n",
    "\n"
   ]
  },
  {
   "cell_type": "code",
   "execution_count": null,
   "id": "32d7ac3c",
   "metadata": {
    "collapsed": false
   },
   "outputs": [],
   "source": []
  }
 ],
 "metadata": {
  "kernelspec": {
   "argv": [
    "python",
    "-m",
    "ipykernel_launcher",
    "-f",
    "{connection_file}"
   ],
   "display_name": "Python 3 (ipykernel)",
   "env": null,
   "interrupt_mode": "signal",
   "language": "python",
   "metadata": {
    "debugger": true
   },
   "name": "python3"
  },
  "name": "explore-irt2.ipynb"
 },
 "nbformat": 4,
 "nbformat_minor": 5
}
