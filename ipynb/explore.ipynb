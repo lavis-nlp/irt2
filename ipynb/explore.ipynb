{
 "cells": [
  {
   "cell_type": "code",
   "execution_count": 1,
   "id": "d8ec7857",
   "metadata": {
    "collapsed": false
   },
   "outputs": [],
   "source": [
    "# used to dynamically explore where to make concept splits\n",
    "%load_ext autoreload\n",
    "%autoreload 2"
   ]
  },
  {
   "cell_type": "code",
   "execution_count": 5,
   "id": "7154c065",
   "metadata": {
    "collapsed": false
   },
   "outputs": [
    {
     "name": "stdout",
     "output_type": "stream",
     "text": [
      "{'concept relations': None,\n",
      " 'graph loader': 'codex',\n",
      " 'graph loader args': ['lib/codex/data/triples/codex-m/train.txt',\n",
      "                       'lib/codex/data/triples/codex-m/valid.txt',\n",
      "                       'lib/codex/data/triples/codex-m/test.txt'],\n",
      " 'graph loader kwargs': {'f_ent2id': 'lib/codex/data/entities/en/entities.json',\n",
      "                         'f_rel2id': 'lib/codex/data/relations/en/relations.json'},\n",
      " 'graph name': 'CodEx-M',\n",
      " 'name': 'IRT2/CDE-L',\n",
      " 'prune mentions': 5,\n",
      " 'seed': 5012022,\n",
      " 'source graph': 'Wikidata',\n",
      " 'source matches': 'data/source/matches/irt.cde/irt.cde.matches-full.csv',\n",
      " 'source name': 'CodEx'}\n",
      "\n",
      "IRT GRAPH: CodEx-M\n",
      "  nodes: 17050\n",
      "  edges: 206205 (51 types)\n",
      "  degree:\n",
      "    mean 24.19\n",
      "    median 13\n",
      "\n"
     ]
    }
   ],
   "source": [
    "import irt2\n",
    "from irt2.graph import Graph\n",
    "from irt2.graph import load_graph\n",
    "\n",
    "import yaml\n",
    "\n",
    "from pprint import pprint\n",
    "\n",
    "\n",
    "with (irt2.ENV.DIR.CONF / 'create' / 'cde-l.yaml').open(mode='r') as fd:\n",
    "    config = yaml.load(fd, Loader=yaml.FullLoader)\n",
    "\n",
    "graph = load_graph(\n",
    "    config['graph loader'],\n",
    "    config['graph name'],\n",
    "    *[irt2.ENV.DIR.ROOT / path for path in config['graph loader args']],\n",
    "    **{k: irt2.ENV.DIR.ROOT / path for k, path in config['graph loader kwargs'].items()},\n",
    ")\n",
    "\n",
    "pprint(config)\n",
    "print()\n",
    "print(graph.description)"
   ]
  },
  {
   "cell_type": "code",
   "execution_count": 11,
   "id": "4d65c163",
   "metadata": {
    "collapsed": false
   },
   "outputs": [
    {
     "name": "stdout",
     "output_type": "stream",
     "text": [
      "got 51 relations\n"
     ]
    }
   ],
   "source": [
    "from irt2.graph import Relation\n",
    "\n",
    "relations = Relation.from_graph(graph)\n",
    "print(f'got {len(relations)} relations')"
   ]
  },
  {
   "cell_type": "code",
   "execution_count": 15,
   "id": "a7e39bc6",
   "metadata": {
    "collapsed": false
   },
   "outputs": [
    {
     "name": "stdout",
     "output_type": "stream",
     "text": [
      "  #  name                                                       rid       ratio    #heads    #tails    #triples\n",
      "---  -------------------------------------------------------  -----  ----------  --------  --------  ----------\n",
      "  1  P1412:languages spoken, written, or signed                  11  0.00631622      9816        62       12584\n",
      "  2  P1303:instrument                                            14  0.0104914       3622        38        6076\n",
      "  3  P140:religion                                               25  0.015873        2520        40        2651\n",
      "  4  P27:country of citizenship                                   3  0.0168763      13036       220       16828\n",
      "  5  P30:continent                                               19  0.01983          353         7         391\n",
      "  6  P509:cause of death                                          8  0.0201889       3071        62        3210\n",
      "  7  P172:ethnic group                                            5  0.0248385       2013        50        2293\n",
      "  8  P2348:time period                                           41  0.0263158        152         4         152\n",
      "  9  P102:member of political party                              20  0.0275862       2175        60        2668\n",
      " 10  P106:occupation                                              2  0.028528       13145       375       71596\n",
      " 11  P495:country of origin                                      18  0.0384911       1299        50        2049\n",
      " 12  P136:genre                                                  10  0.0431831       5303       229       11761\n",
      " 13  P641:sport                                                  26  0.0442708        384        17         418\n",
      " 14  P19:place of birth                                          13  0.0610995       7185       439        7214\n",
      " 15  P69:educated at                                              4  0.0647493       6502       421        9752\n",
      " 16  P463:member of                                               1  0.0677463       3705       251       11490\n",
      " 17  P264:record label                                           17  0.0684316       2002       137        3456\n",
      " 18  P20:place of death                                          22  0.0695957       5417       377        5442\n",
      " 19  P1050:medical condition                                     32  0.0759494        395        30         408\n",
      " 20  P101:field of work                                          27  0.0813421       1967       160        2421\n",
      " 21  P2283:uses                                                  45  0.0833333         12         1          12\n",
      " 22  P135:movement                                               16  0.0920097        413        38         446\n",
      " 23  P119:place of burial                                        24  0.0967078       1944       188        1972\n",
      " 24  P108:employer                                               15  0.126658        3016       382        4795\n",
      " 25  P37:official language                                       35  0.183007         306        56         403\n",
      " 26  P840:narrative location                                      6  0.196755         986       194        1506\n",
      " 27  P17:country                                                  9  0.223089         641       143        1323\n",
      " 28  P50:author                                                  43  0.235294           4        17          17\n",
      " 29  P452:industry                                               44  0.25              16         4          17\n",
      " 30  P551:residence                                              21  0.251753        1426       359        1934\n",
      " 31  P749:parent organization                                    38  0.315068          73        23          82\n",
      " 32  P407:language of work or name                               34  0.323529          34        11          43\n",
      " 33  P361:part of                                                39  0.347826         138        48         171\n",
      " 34  P57:director                                                28  0.370849         542       201         561\n",
      " 35  P159:headquarters location                                  12  0.420382         157        66         169\n",
      " 36  P161:cast member                                             0  0.479859        1227      2557        9249\n",
      " 37  P1056:product or material produced                          49  0.5                2         1           2\n",
      " 38  P740:location of formation                                  40  0.518797         133        69         133\n",
      " 39  P131:located in the administrative terroritorial entity     37  0.760736         163       124         212\n",
      " 40  P737:influenced by                                          23  0.871186         514       590        1508\n",
      " 41  P138:named after                                            42  0.890909          49        55          57\n",
      " 42  P112:founded by                                             36  0.948276          55        58          67\n",
      " 43  P40:child                                                   30  0.953704         309       324         391\n",
      " 44  P451:unmarried partner                                      31  0.961877         328       341         393\n",
      " 45  P530:diplomatic relation                                     7  0.968326         214       221        6225\n",
      " 46  P3373:sibling                                               29  0.994949         394       396         785\n",
      " 47  P26:spouse                                                  33  1                804       804         866\n",
      " 48  P3095:practiced by                                          46  1                  2         2           2\n",
      " 49  P54:member of sports team                                   47  1                  2         2           2\n",
      " 50  P113:airline hub                                            48  1                  1         1           1\n",
      " 51  P780:symptoms                                               50  1                  1         1           1\n"
     ]
    }
   ],
   "source": [
    "from tabulate import tabulate\n",
    "\n",
    "\n",
    "def relation_table(relations):\n",
    "    headers = '#', 'name', 'rid', 'ratio', '#heads', '#tails', '#triples'\n",
    "    rows = []\n",
    "    for no, rel in enumerate(relations, 1):\n",
    "        rows.append((no, rel.name, rel.r, rel.ratio, len(rel.hs), len(rel.ts), len(rel.triples)))\n",
    "\n",
    "    return tabulate(rows, headers=headers)\n",
    "\n",
    "\n",
    "print(relation_table(relations))"
   ]
  }
 ],
 "metadata": {
  "kernelspec": {
   "argv": [
    "python",
    "-m",
    "ipykernel_launcher",
    "-f",
    "{connection_file}"
   ],
   "display_name": "Python 3 (ipykernel)",
   "env": null,
   "interrupt_mode": "signal",
   "language": "python",
   "metadata": {
    "debugger": true
   },
   "name": "python3"
  },
  "name": "explore.ipynb"
 },
 "nbformat": 4,
 "nbformat_minor": 5
}
