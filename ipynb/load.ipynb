{
 "cells": [
  {
   "cell_type": "markdown",
   "id": "00b36bd3",
   "metadata": {
    "collapsed": false
   },
   "source": [
    "# Inductive Reasoning with Text: IRT2\n",
    "\n",
    "This notebook describes how to load the IRT2 dataset. \n",
    "Some of the properties are looked at in detail to offer insights into the datamodel."
   ]
  },
  {
   "cell_type": "code",
   "execution_count": 1,
   "id": "5fc608c9",
   "metadata": {
    "collapsed": false
   },
   "outputs": [],
   "source": [
    "%load_ext autoreload\n",
    "%autoreload 2"
   ]
  },
  {
   "cell_type": "code",
   "execution_count": 2,
   "id": "be2b8224",
   "metadata": {
    "collapsed": false
   },
   "outputs": [
    {
     "name": "stdout",
     "output_type": "stream",
     "text": [
      "IRT2/CDE-L: 17050 vertices | 51 relations | 32666 mentions\n"
     ]
    }
   ],
   "source": [
    "import irt2\n",
    "from irt2.dataset import IRT2\n",
    "from irt2.dataset import MID\n",
    "\n",
    "#  folder convention:\n",
    "#     data/irt2/<graph>/<size>\n",
    "#  where\n",
    "#     graph = cde|fb\n",
    "#     size  = tiny|small|medium|large (abbreviated: T|S|M|L)\n",
    "#  for example:\n",
    "#     path = 'data/irt2/cde/small'\n",
    "\n",
    "data = IRT2.from_dir(path=irt2.ENV.DIR.DATA / 'irt2' / 'cde' / 'large')\n",
    "print(str(data))"
   ]
  },
  {
   "cell_type": "code",
   "execution_count": 3,
   "id": "7638f681",
   "metadata": {
    "collapsed": false
   },
   "outputs": [],
   "source": [
    "import gzip\n",
    "import textwrap\n",
    "from itertools import islice\n",
    "from tabulate import tabulate\n",
    "\n",
    "from collections import Counter\n",
    "from collections import defaultdict\n",
    "\n",
    "from typing import Generator"
   ]
  },
  {
   "cell_type": "code",
   "execution_count": 4,
   "id": "519b4bd7",
   "metadata": {
    "collapsed": false
   },
   "outputs": [
    {
     "name": "stdout",
     "output_type": "stream",
     "text": [
      "---------------------  ------------------------------------\n",
      "name                   IRT2/CDE-L\n",
      "created                2022-02-01T16:29:14.510416\n",
      "match count threshold  5\n",
      "mention split ratio    0.5\n",
      "seed                   5012022\n",
      "seperator              |\n",
      "source graph           lib/codex/data\n",
      "source matches         data/matches/irt.cde\n",
      "source pages           data/matches/src/matches-v6-codex.db\n",
      "spacy model            en_core_web_lg\n",
      "---------------------  ------------------------------------\n"
     ]
    }
   ],
   "source": [
    "# configuration\n",
    "\n",
    "print(tabulate(data.config.items()))"
   ]
  },
  {
   "cell_type": "code",
   "execution_count": 5,
   "id": "90777685",
   "metadata": {
    "collapsed": false
   },
   "outputs": [
    {
     "name": "stdout",
     "output_type": "stream",
     "text": [
      "\n",
      "vertices:\n",
      "    vid name\n",
      "      0 Q108946:A Few Good Men\n",
      "      1 Q39792:Jack Nicholson\n",
      "      2 Q1041:Senegal\n",
      "      3 Q7809:UNESCO\n",
      "      4 Q314924:Anthony Edwards\n",
      "      5 Q33999:actor\n",
      "      6 Q722876:Roy Mayorga\n",
      "      7 Q855091:guitarist\n",
      "      8 Q78514:Franz Werfel\n",
      "      9 Q268970:Republic of German-Austria\n",
      "\n",
      "relations:\n",
      "    rid name\n",
      "      0 P161:cast member\n",
      "      1 P463:member of\n",
      "      2 P106:occupation\n",
      "      3 P27:country of citizenship\n",
      "      4 P69:educated at\n",
      "      5 P172:ethnic group\n",
      "      6 P840:narrative location\n",
      "      7 P530:diplomatic relation\n",
      "      8 P509:cause of death\n",
      "      9 P17:country\n"
     ]
    }
   ],
   "source": [
    "# show example vertices and relations\n",
    "\n",
    "print('\\nvertices:')\n",
    "print(f'    vid name')\n",
    "for vid, name in islice(data.vertices.items(), 10):\n",
    "    print(f'{vid:7d} {name}')\n",
    "\n",
    "print('\\nrelations:')\n",
    "print(f'    rid name')\n",
    "for rid, name in islice(data.relations.items(), 10):\n",
    "    print(f'{rid:7d} {name}')"
   ]
  },
  {
   "cell_type": "code",
   "execution_count": 6,
   "id": "0ee6fa87",
   "metadata": {
    "collapsed": false
   },
   "outputs": [
    {
     "name": "stdout",
     "output_type": "stream",
     "text": [
      "  vid  head                                rid  relation                      vid  tail\n",
      "-----  --------------------------------  -----  --------------------------  -----  ------------------------------------------------\n",
      " 5518  Q365985:Claude François              10  P136:genre                   5565  Q58339:disco\n",
      " 2283  Q238719:Naomi Shemer                 27  P101:field of work            927  Q482:poetry\n",
      " 7917  Q26702:Cardinal Richelieu             3  P27:country of citizenship     23  Q142:France\n",
      " 8107  Q286366:Émile Proulx-Cloutier         2  P106:occupation               701  Q753110:songwriter\n",
      " 8955  Q190772:Siméon Denis Poisson          4  P69:educated at              1482  Q273626:École Polytechnique\n",
      "12219  Q539171:Dalida                       24  P119:place of burial         2422  Q746647:Montmartre Cemetery\n",
      " 9492  Q179041:Lisa Kudrow                   2  P106:occupation               278  Q36180:writer\n",
      " 3104  Q884:South Korea                     35  P37:official language        4274  Q9176:Korean\n",
      " 7574  Q1560915:Günter Pritschow            13  P19:place of birth            233  Q64:Berlin\n",
      " 1972  Q82083:John Keats                    25  P140:religion                4893  Q6423963:Anglicanism\n",
      " 3579  Q151814:Sarah Brightman               2  P106:occupation               139  Q10800557:film actor\n",
      "12453  Q7546:Ingmar Bergman                  4  P69:educated at              2848  Q221645:Stockholm University\n",
      " 9623  Q389014:Dragnet                      10  P136:genre                   3927  Q959790:crime film\n",
      " 4943  Q162629:Simon Cowell                  2  P106:occupation               141  Q36834:composer\n",
      " 8880  Q217552:X-Men Origins: Wolverine      6  P840:narrative location       377  Q881:Vietnam\n",
      " 3182  Q262314:Chris Rea                    10  P136:genre                     89  Q11399:rock music\n",
      "12640  Q154691:Carlos Fuentes                4  P69:educated at              6508  Q222738:National Autonomous University of Mexico\n",
      "10046  Q42544:Thomas More                    2  P106:occupation              1215  Q16533:judge\n",
      "  162  Q23359:Taylor Lautner                 2  P106:occupation                 5  Q33999:actor\n",
      " 9899  Q68596:Werner Heyde                  15  P108:employer               10254  Q161976:University of Würzburg\n"
     ]
    }
   ],
   "source": [
    "# show example closed-world triples\n",
    "\n",
    "print(tabulate(\n",
    "    [\n",
    "        (h, data.vertices[h], r, data.relations[r], t, data.vertices[t])\n",
    "        for h, t, r in islice(data.closed_triples, 20)\n",
    "    ],\n",
    "    headers=('vid', 'head', 'rid', 'relation', 'vid', 'tail')\n",
    "))"
   ]
  },
  {
   "cell_type": "code",
   "execution_count": 7,
   "id": "9a241fd1",
   "metadata": {
    "collapsed": false
   },
   "outputs": [
    {
     "name": "stdout",
     "output_type": "stream",
     "text": [
      "\n",
      "counting closed-world contexts\n",
      "  read 1000 relevant contexts\n",
      "  saw contexts for 312 mentions\n",
      "\n",
      "counting open-world contexts\n",
      "  read 1000 relevant contexts\n",
      "  saw contexts for 312 mentions\n"
     ]
    }
   ],
   "source": [
    "# count total amount of available text contexts\n",
    "# (this can take a while...)\n",
    "\n",
    "def count_contexts(contexts: Generator, n: int = None):\n",
    "\n",
    "    counts = Counter()\n",
    "    count = 0\n",
    "\n",
    "    for ctx in islice(contexts, n):\n",
    "\n",
    "        # assert mid in data.mentions\n",
    "        # TODO pre-filter\n",
    "        if ctx.mid not in data.mentions:\n",
    "            continue\n",
    "\n",
    "        count += 1\n",
    "        counts[ctx.mid] += 1\n",
    "\n",
    "\n",
    "    print(f'  read {count} relevant contexts')\n",
    "    print(f'  saw contexts for {len(counts)} mentions')\n",
    "\n",
    "    return counts\n",
    "\n",
    "\n",
    "with data.closed_contexts() as contexts:\n",
    "    print('\\ncounting closed-world contexts')\n",
    "    ctx_counts_closed: dict[MID, int] = count_contexts(contexts, n=1000)\n",
    "\n",
    "with data.open_contexts() as contexts:\n",
    "    print('\\ncounting open-world contexts')\n",
    "    ctx_counts_open: dict[MID, int] = count_contexts(contexts, n=1000)\n"
   ]
  },
  {
   "cell_type": "code",
   "execution_count": 8,
   "id": "bac15140",
   "metadata": {
    "collapsed": false
   },
   "outputs": [
    {
     "name": "stdout",
     "output_type": "stream",
     "text": [
      "\n",
      "11 mentions of Q5043:Christianity (vid=893)\n",
      "  mid=192 christendom (0 matches)\n",
      "  mid=193 religion (0 matches)\n",
      "  mid=194 christian churches (0 matches)\n",
      "  mid=195 christianised (0 matches)\n",
      "  mid=196 christianity (0 matches)\n",
      "  mid=197 christian faith (0 matches)\n",
      "  mid=198 christianized (0 matches)\n",
      "  mid=188 christian (0 matches)\n",
      "  mid=189 catholic (0 matches)\n",
      "  mid=190 missionary (0 matches)\n",
      "  mid=191 christian theology (0 matches)\n",
      "\n",
      "7 mentions of Q29:Spain (vid=1695)\n",
      "  mid=199 spanish crown (0 matches)\n",
      "  mid=200 spanish government (0 matches)\n",
      "  mid=201 hispanic (0 matches)\n",
      "  mid=202 españa (0 matches)\n",
      "  mid=203 spaniards (0 matches)\n",
      "  mid=204 the country (0 matches)\n",
      "  mid=205 spain (3 matches)\n",
      "\n",
      "3 mentions of Q16867:Edgar Allan Poe (vid=7331)\n",
      "  mid=208 poe's (0 matches)\n",
      "  mid=209 edgar allan poe (3 matches)\n",
      "  mid=210 edgar (0 matches)\n",
      "\n",
      "6 mentions of Q7737:Russian (vid=42)\n",
      "  mid=211 russian (6 matches)\n",
      "  mid=212 russian speaking (0 matches)\n",
      "  mid=213 translation (0 matches)\n",
      "  mid=214 fsb (0 matches)\n",
      "  mid=215 ru (0 matches)\n",
      "  mid=216 rus (0 matches)\n",
      "\n",
      "4 mentions of Q49114:Brown University (vid=1681)\n",
      "  mid=224 brown university (0 matches)\n",
      "  mid=225 brown (0 matches)\n",
      "  mid=226 rhode island college (0 matches)\n",
      "  mid=227 president (0 matches)\n",
      "\n",
      "OPEN WORLD --------------------\n",
      "\n",
      "11 mentions of Q5043:Christianity (vid=893)\n",
      "  mid=46644 christian beliefs (0 matches)\n",
      "  mid=46645 faith (0 matches)\n",
      "  mid=46646 christianization (0 matches)\n",
      "  mid=46647 church (0 matches)\n",
      "  mid=46648 christian belief (0 matches)\n",
      "  mid=46649 cross (0 matches)\n",
      "  mid=46650 god (0 matches)\n",
      "  mid=46651 worship (0 matches)\n",
      "  mid=46652 christian church (0 matches)\n",
      "  mid=46653 christian religion (0 matches)\n",
      "  mid=46654 christians (0 matches)\n",
      "\n",
      "7 mentions of Q29:Spain (vid=1695)\n",
      "  mid=46656 spanish state (0 matches)\n",
      "  mid=46657 spanish (0 matches)\n",
      "  mid=46658 española (0 matches)\n",
      "  mid=46659 spain's (0 matches)\n",
      "  mid=46660 spaniard (0 matches)\n",
      "  mid=46661 kingdom of spain (0 matches)\n",
      "  mid=46655 esp (0 matches)\n",
      "\n",
      "2 mentions of Q16867:Edgar Allan Poe (vid=7331)\n",
      "  mid=46664 edgar allan poe's (0 matches)\n",
      "  mid=46663 poe (0 matches)\n",
      "\n",
      "5 mentions of Q7737:Russian (vid=42)\n",
      "  mid=46665 russia (0 matches)\n",
      "  mid=46666 russian: (0 matches)\n",
      "  mid=46667 language (0 matches)\n",
      "  mid=46668 russian language (0 matches)\n",
      "  mid=46669 rus: (0 matches)\n",
      "\n",
      "3 mentions of Q49114:Brown University (vid=1681)\n",
      "  mid=46677 college in the english colony of rhode island and providence plantations (0 matches)\n",
      "  mid=46678 college of rhode island and providence plantations (0 matches)\n",
      "  mid=46679 brown university's (0 matches)\n"
     ]
    }
   ],
   "source": [
    "# show some mentions\n",
    "\n",
    "for vid, mids in islice(data.closed_mentions.items(), 30, 35):\n",
    "    print(f'\\n{len(mids)} mentions of {data.vertices[vid]} ({vid=})')\n",
    "    for mid in mids:\n",
    "        mention = data.mentions[mid]\n",
    "        print(f'  {mid=} {mention} ({ctx_counts_closed[mid]} matches)')\n",
    "\n",
    "print('\\nOPEN WORLD ' + '-' * 20)\n",
    "# open-world mentions\n",
    "for vid, mids in islice(data.open_mentions.items(), 30, 35):\n",
    "    print(f'\\n{len(mids)} mentions of {data.vertices[vid]} ({vid=})')\n",
    "    for mid in mids:\n",
    "        mention = data.mentions[mid]\n",
    "        print(f'  {mid=} {mention} ({ctx_counts_open[mid]} matches)')"
   ]
  },
  {
   "cell_type": "code",
   "execution_count": 9,
   "id": "dec0ff8c",
   "metadata": {
    "collapsed": false
   },
   "outputs": [
    {
     "name": "stdout",
     "output_type": "stream",
     "text": [
      "\n",
      "HEAD TASK --------------------\n",
      "\n",
      "\"pavel sukhoi\" P106:occupation ?\n",
      "  answer: Q82955:politician\n",
      "\n",
      "\"the bride\" P136:genre ?\n",
      "  answer: Q157394:fantasy film\n",
      "\n",
      "\"dalida\" P119:place of burial ?\n",
      "  answer: Q746647:Montmartre Cemetery\n",
      "\n",
      "\"vince vaughn\" P106:occupation ?\n",
      "  answer: Q3282637:film producer\n",
      "\n",
      "\"lisa kudrow\" P106:occupation ?\n",
      "  answer: Q948329:character actor\n",
      "\n",
      "\"hanns josef ortheil\" P27:country of citizenship ?\n",
      "  answer: Q183:Germany\n",
      "\n",
      "\"lou reed\" P509:cause of death ?\n",
      "  answer: Q147778:liver cirrhosis\n",
      "\n",
      "\"robert siewert\" P27:country of citizenship ?\n",
      "  answer: Q183:Germany\n",
      "\n",
      "\"naya rivera\" P106:occupation ?\n",
      "  answer: Q10798782:television actor\n",
      "\n",
      "\"27 dresses\" P840:narrative location ?\n",
      "  answer: Q60:New York City\n",
      "\n",
      "TAIL TASK --------------------\n",
      "\n",
      "? P40:child \"philippine de rothschild\"\n",
      "  answer: Q557930:Philippe de Rothschild\n",
      "\n",
      "? P463:member of \"ligue de la patrie française\"\n",
      "  answer: Q163159:Alfred Nicolas Rambaud\n",
      "\n",
      "? P19:place of birth \"greifswald\"\n",
      "  answer: Q76539:Hans Fallada\n",
      "\n",
      "? P161:cast member \"mark margolis\"\n",
      "  answer: Q286868:Noah\n",
      "\n",
      "? P106:occupation \"editor\"\n",
      "  answer: Q577548:Jean Prévost\n",
      "\n",
      "? P451:unmarried partner \"guy pearce\"\n",
      "  answer: Q232384:Carice van Houten\n",
      "\n",
      "? P119:place of burial \"ohlsdorf cemetery\"\n",
      "  answer: Q2516:Helmut Schmidt\n",
      "\n",
      "? P106:occupation \"painter\"\n",
      "  answer: Q216570:T. Lux Feininger\n",
      "\n",
      "? P19:place of birth \"magdeburg\"\n",
      "  answer: Q86886:Paul Lindau\n",
      "\n",
      "? P509:cause of death \"shot\"\n",
      "  answer: Q1678730:Jaime Hurtado\n"
     ]
    }
   ],
   "source": [
    "# some examples for the head and tail tasks\n",
    "\n",
    "print('\\nHEAD TASK ' + '-' * 20)\n",
    "for (mid, rid), vid in islice(data.open_task_heads.items(), 10):\n",
    "    print(f'\\n\"{data.mentions[mid]}\" {data.relations[rid]} ?')\n",
    "    print(f'  answer: {data.vertices[vid]}')\n",
    "\n",
    "print('\\nTAIL TASK ' + '-' * 20)\n",
    "for (mid, rid), vid in islice(data.open_task_tails.items(), 10):\n",
    "    print(f'\\n? {data.relations[rid]} \"{data.mentions[mid]}\"')\n",
    "    print(f'  answer: {data.vertices[vid]}')"
   ]
  },
  {
   "cell_type": "code",
   "execution_count": 13,
   "id": "7012748e",
   "metadata": {
    "collapsed": false
   },
   "outputs": [
    {
     "name": "stdout",
     "output_type": "stream",
     "text": [
      "\n",
      "text for patricia kaas (mid=23237) (vertex='Q159704:Patricia Kaas')\n",
      "\n",
      "text for paris (mid=2056) (vertex='Q90:Paris')\n",
      "\n",
      "text for russian (mid=211) (vertex='Q7737:Russian')\n"
     ]
    }
   ],
   "source": [
    "mid2vid = (\n",
    "    {mid: vid for vid, mids in data.closed_mentions.items() for mid in mids} |\n",
    "    {mid: vid for vid, mids in data.open_mentions.items() for mid in mids}\n",
    ")\n",
    "\n",
    "\n",
    "texts = defaultdict(set)\n",
    "with data.closed_contexts() as contexts:\n",
    "    for ctx in islice(contexts, 1000):\n",
    "        texts[ctx.mid].add(ctx)\n",
    "\n",
    "    texts = dict(texts)\n",
    "\n",
    "\n",
    "for mid in islice(texts, 3):\n",
    "    mention_norm = data.mentions[mid]\n",
    "    vertex = data.vertices[mid2vid[mid]]\n",
    "\n",
    "    print(f'\\ntext for {mention_norm} ({mid=}) ({vertex=})')\n",
    "    for ctx in texts[mid]:\n",
    "        textwrap.indent(str(ctx), '  ') + '\\n'"
   ]
  }
 ],
 "metadata": {
  "kernelspec": {
   "argv": [
    "python",
    "-m",
    "ipykernel_launcher",
    "-f",
    "{connection_file}"
   ],
   "display_name": "Python 3",
   "env": null,
   "interrupt_mode": "signal",
   "language": "python",
   "metadata": null,
   "name": "python3"
  },
  "name": "load.ipynb"
 },
 "nbformat": 4,
 "nbformat_minor": 5
}
