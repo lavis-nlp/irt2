{
 "cells": [
  {
   "cell_type": "markdown",
   "id": "37712761-8ddc-46ec-9248-11e58dec9c40",
   "metadata": {
    "collapsed": false,
    "jupyter": {
     "outputs_hidden": false
    }
   },
   "source": [
    "# Text Subsampling\n",
    "\n",
    "We draw up to `n` texts for training/evaluation.\n",
    "This does not concerns blp datasets."
   ]
  },
  {
   "cell_type": "code",
   "execution_count": 3,
   "id": "944f9095-6aa5-4bde-90d7-7959ef7f9ec6",
   "metadata": {
    "collapsed": false,
    "jupyter": {
     "outputs_hidden": false
    }
   },
   "outputs": [
    {
     "name": "stdout",
     "output_type": "stream",
     "text": [
      "writing /home/felix/Complex/dkg/irt2/data/irt2/irt2-cde-tiny/closed.train-contexts-31189-30.txt.gz\n"
     ]
    },
    {
     "name": "stdout",
     "output_type": "stream",
     "text": [
      "wrote 90810 contexts, writing pickled dict\n"
     ]
    },
    {
     "name": "stdout",
     "output_type": "stream",
     "text": [
      "writing /home/felix/Complex/dkg/irt2/data/irt2/irt2-cde-tiny/open.validation-contexts-31189-30.txt.gz\n"
     ]
    },
    {
     "name": "stdout",
     "output_type": "stream",
     "text": [
      "wrote 39286 contexts, writing pickled dict\n"
     ]
    },
    {
     "name": "stdout",
     "output_type": "stream",
     "text": [
      "writing /home/felix/Complex/dkg/irt2/data/irt2/irt2-cde-tiny/open.test-contexts-31189-30.txt.gz\n"
     ]
    },
    {
     "name": "stdout",
     "output_type": "stream",
     "text": [
      "wrote 348717 contexts, writing pickled dict\n"
     ]
    },
    {
     "name": "stdout",
     "output_type": "stream",
     "text": [
      "writing /home/felix/Complex/dkg/irt2/data/irt2/irt2-cde-small/closed.train-contexts-31189-30.txt.gz\n"
     ]
    },
    {
     "name": "stdout",
     "output_type": "stream",
     "text": [
      "wrote 175854 contexts, writing pickled dict\n"
     ]
    },
    {
     "name": "stdout",
     "output_type": "stream",
     "text": [
      "writing /home/felix/Complex/dkg/irt2/data/irt2/irt2-cde-small/open.validation-contexts-31189-30.txt.gz\n"
     ]
    },
    {
     "name": "stdout",
     "output_type": "stream",
     "text": [
      "wrote 78277 contexts, writing pickled dict\n"
     ]
    },
    {
     "name": "stdout",
     "output_type": "stream",
     "text": [
      "writing /home/felix/Complex/dkg/irt2/data/irt2/irt2-cde-small/open.test-contexts-31189-30.txt.gz\n"
     ]
    },
    {
     "name": "stdout",
     "output_type": "stream",
     "text": [
      "wrote 311113 contexts, writing pickled dict\n"
     ]
    },
    {
     "name": "stdout",
     "output_type": "stream",
     "text": [
      "writing /home/felix/Complex/dkg/irt2/data/irt2/irt2-cde-medium/closed.train-contexts-31189-30.txt.gz\n"
     ]
    },
    {
     "name": "stdout",
     "output_type": "stream",
     "text": [
      "wrote 268684 contexts, writing pickled dict\n"
     ]
    },
    {
     "name": "stdout",
     "output_type": "stream",
     "text": [
      "writing /home/felix/Complex/dkg/irt2/data/irt2/irt2-cde-medium/open.validation-contexts-31189-30.txt.gz\n"
     ]
    },
    {
     "name": "stdout",
     "output_type": "stream",
     "text": [
      "wrote 75047 contexts, writing pickled dict\n"
     ]
    },
    {
     "name": "stdout",
     "output_type": "stream",
     "text": [
      "writing /home/felix/Complex/dkg/irt2/data/irt2/irt2-cde-medium/open.test-contexts-31189-30.txt.gz\n"
     ]
    },
    {
     "name": "stdout",
     "output_type": "stream",
     "text": [
      "wrote 294529 contexts, writing pickled dict\n"
     ]
    },
    {
     "name": "stdout",
     "output_type": "stream",
     "text": [
      "writing /home/felix/Complex/dkg/irt2/data/irt2/irt2-cde-large/closed.train-contexts-31189-30.txt.gz\n"
     ]
    },
    {
     "name": "stdout",
     "output_type": "stream",
     "text": [
      "wrote 447929 contexts, writing pickled dict\n"
     ]
    },
    {
     "name": "stdout",
     "output_type": "stream",
     "text": [
      "writing /home/felix/Complex/dkg/irt2/data/irt2/irt2-cde-large/open.validation-contexts-31189-30.txt.gz\n"
     ]
    },
    {
     "name": "stdout",
     "output_type": "stream",
     "text": [
      "wrote 58456 contexts, writing pickled dict\n"
     ]
    },
    {
     "name": "stdout",
     "output_type": "stream",
     "text": [
      "writing /home/felix/Complex/dkg/irt2/data/irt2/irt2-cde-large/open.test-contexts-31189-30.txt.gz\n"
     ]
    },
    {
     "name": "stdout",
     "output_type": "stream",
     "text": [
      "wrote 135206 contexts, writing pickled dict\n"
     ]
    }
   ],
   "source": [
    "import irt2\n",
    "from irt2.dataset import IRT2\n",
    "from irt2.loader import LOADER\n",
    "\n",
    "import gzip\n",
    "import pickle\n",
    "import random\n",
    "from itertools import islice\n",
    "from collections import defaultdict\n",
    "\n",
    "\n",
    "p_data = irt2.ENV.DIR.DATA\n",
    "\n",
    "\n",
    "# IRT2\n",
    "\n",
    "config = {\n",
    "    'at_most': 30,\n",
    "    'seed': 31189,\n",
    "    'datasets': [\n",
    "        {\n",
    "            \"path\": p_data / \"irt2\" / \"irt2-cde-tiny\",\n",
    "            \"loader\": \"irt2\",\n",
    "            \"percentage\": {\n",
    "                \"validation\": 0.17,\n",
    "                \"test\": 0.02,\n",
    "            },\n",
    "        },\n",
    "        {\n",
    "            \"path\": p_data / \"irt2\" / \"irt2-cde-small\",\n",
    "            \"loader\": \"irt2\",\n",
    "            \"percentage\": {\n",
    "                \"validation\": 0.08,\n",
    "                \"test\": 0.02,\n",
    "            },\n",
    "        },\n",
    "        {\n",
    "            \"path\": p_data / \"irt2\" / \"irt2-cde-medium\",\n",
    "            \"loader\": \"irt2\",\n",
    "            \"percentage\": {\n",
    "                \"validation\": 0.04,\n",
    "                \"test\": 0.01,\n",
    "            },\n",
    "        },\n",
    "        {\n",
    "            \"path\": p_data / \"irt2\" / \"irt2-cde-large\",\n",
    "            \"loader\": \"irt2\",\n",
    "            \"percentage\": {\n",
    "                \"validation\": 0.05,\n",
    "                \"test\": 0.02,\n",
    "            },\n",
    "        },\n",
    "    ],\n",
    "}\n",
    "\n",
    "\n",
    "\n",
    "def draw(ds: IRT2, ds_conf: dict, seed: int, n: int):\n",
    "    managers = {\n",
    "        'closed.train-contexts': ds.closed_contexts,\n",
    "        'open.validation-contexts': ds.open_contexts_val,\n",
    "        'open.test-contexts': ds.open_contexts_test,\n",
    "    }\n",
    "\n",
    "    rng = random.Random(seed)\n",
    "\n",
    "    seperator = ds.config[\"create\"][\"separator\"]\n",
    "    for name, mgr in managers.items():\n",
    "        agg = defaultdict(list)\n",
    "        with mgr() as contexts:\n",
    "            contexts = (ctx for ctx in contexts if '\\n' not in ctx.data)\n",
    "\n",
    "            for context in islice(contexts, None):\n",
    "                # reproducibility given as order of insertion stays the same\n",
    "                agg[context.mid].append(context)\n",
    "\n",
    "            for mid in agg:\n",
    "                rng.shuffle(agg[mid])\n",
    "                agg[mid] = [ctx.data for ctx in agg[mid][:n]]\n",
    "\n",
    "        fpath = ds_conf['path'] / f'{name}-{seed}-{n}.txt.gz'\n",
    "        print(f'writing {fpath}')\n",
    "\n",
    "        total = 0\n",
    "        agg = dict(agg)\n",
    "\n",
    "        with gzip.open(fpath, mode='wb') as fd:\n",
    "             for text in (text for texts in agg.values() for text in texts):\n",
    "                fd.write(text.strip().encode() + b\"\\n\")\n",
    "                total += 1\n",
    "\n",
    "        print(f'wrote {total} contexts, writing pickled dict')\n",
    "        with (ds_conf['path'] / f'{name}-{seed}-{n}.pkl').open(mode='wb') as fd:\n",
    "            pickle.dump(agg, fd)\n",
    "\n",
    "\n",
    "kwargs = dict(seed=config['seed'], n=config['at_most'])\n",
    "for ds_conf in config['datasets']:\n",
    "    draw(\n",
    "        LOADER[ds_conf['loader']](ds_conf['path']),\n",
    "        ds_conf,\n",
    "        **kwargs,\n",
    "    )\n",
    "\n",
    "\n",
    "\n",
    "# draw(ds=IRT2.from_dir(irt2.ENV.DIR.DATA / 'irt2' / 'irt2-cde-tiny'), **kwargs)"
   ]
  },
  {
   "cell_type": "code",
   "execution_count": null,
   "id": "03f3f400-b638-4402-936c-574c83bb240c",
   "metadata": {
    "collapsed": false
   },
   "outputs": [],
   "source": [
    "# BLP\n",
    "\n",
    "# TODO"
   ]
  }
 ],
 "metadata": {
  "kernelspec": {
   "argv": [
    "python",
    "-m",
    "ipykernel_launcher",
    "-f",
    "{connection_file}"
   ],
   "display_name": "Python 3 (ipykernel)",
   "env": null,
   "interrupt_mode": "signal",
   "language": "python",
   "metadata": {
    "debugger": true
   },
   "name": "python3"
  },
  "language_info": {
   "codemirror_mode": {
    "name": "ipython",
    "version": 3
   },
   "file_extension": ".py",
   "mimetype": "text/x-python",
   "name": "python",
   "nbconvert_exporter": "python",
   "pygments_lexer": "ipython3",
   "version": "3.11.6"
  },
  "name": "subsample-text.ipynb"
 },
 "nbformat": 4,
 "nbformat_minor": 5
}
